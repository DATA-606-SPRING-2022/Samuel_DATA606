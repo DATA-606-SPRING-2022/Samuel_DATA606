{
  "nbformat": 4,
  "nbformat_minor": 0,
  "metadata": {
    "colab": {
      "name": "Article Testing",
      "provenance": [],
      "collapsed_sections": [],
      "authorship_tag": "ABX9TyM62q4wg3qXlo2a9UYP+wPJ",
      "include_colab_link": true
    },
    "kernelspec": {
      "name": "python3",
      "display_name": "Python 3"
    },
    "language_info": {
      "name": "python"
    }
  },
  "cells": [
    {
      "cell_type": "markdown",
      "metadata": {
        "id": "view-in-github",
        "colab_type": "text"
      },
      "source": [
        "<a href=\"https://colab.research.google.com/github/skbetz54/Samuel_DATA606/blob/main/Notebooks/Article_Testing.ipynb\" target=\"_parent\"><img src=\"https://colab.research.google.com/assets/colab-badge.svg\" alt=\"Open In Colab\"/></a>"
      ]
    },
    {
      "cell_type": "code",
      "execution_count": null,
      "metadata": {
        "colab": {
          "base_uri": "https://localhost:8080/"
        },
        "id": "D9qY-E3nqvBQ",
        "outputId": "524b2208-cc7a-420b-efcf-65c38877098e"
      },
      "outputs": [
        {
          "output_type": "stream",
          "name": "stdout",
          "text": [
            "[nltk_data] Downloading package punkt to /root/nltk_data...\n",
            "[nltk_data]   Package punkt is already up-to-date!\n",
            "[nltk_data] Downloading package stopwords to /root/nltk_data...\n",
            "[nltk_data]   Package stopwords is already up-to-date!\n",
            "[nltk_data] Downloading package averaged_perceptron_tagger to\n",
            "[nltk_data]     /root/nltk_data...\n",
            "[nltk_data]   Package averaged_perceptron_tagger is already up-to-\n",
            "[nltk_data]       date!\n",
            "[nltk_data] Downloading package wordnet to /root/nltk_data...\n",
            "[nltk_data]   Package wordnet is already up-to-date!\n"
          ]
        }
      ],
      "source": [
        "# !pip install contractions # used to get rid of contractions (in real-world news articles)\n",
        "# !pip install textblob # used for quantifying polarity of the tweets in the dataset.\n",
        "# !pip install newspaper3k\n",
        "\n",
        "import pandas as pd\n",
        "import lxml\n",
        "from lxml.html import fromstring, tostring\n",
        "\n",
        "# from newspaper import Article\n",
        "# import newspaper\n",
        "# import BeautifulSoup4 as bs4\n",
        "\n",
        "import os\n",
        "\n",
        "import pandas as pd\n",
        "import numpy as np\n",
        "import matplotlib.pyplot as plt\n",
        "import seaborn as sns\n",
        "\n",
        "import torchtext\n",
        "import pickle\n",
        "import torch\n",
        "\n",
        "#Preprocessing Functions\n",
        "from sklearn.utils import shuffle\n",
        "import nltk\n",
        "from nltk.tokenize import word_tokenize\n",
        "from nltk.corpus import wordnet, stopwords\n",
        "from nltk.stem import WordNetLemmatizer\n",
        "\n",
        "nltk.download('punkt') # punkt is a dependency used for nltk's  function \"word_tokenize\" that does not come when you import nltk\n",
        "nltk.download('stopwords') # NLTK has a built-in dictionary of stop words that will be used when removing stopwords from the data\n",
        "nltk.download('averaged_perceptron_tagger') # package that assigns parts of speech, to be used in lemmatization\n",
        "nltk.download('wordnet') # Added because the above import from corpus sometimes does not work.\n",
        "from nltk.tag import pos_tag # Another package used in lemmatization to import parts of speech for words\n",
        "\n",
        "from wordcloud import WordCloud # EDA Tool\n",
        "from textblob import TextBlob\n",
        "\n",
        "from google.colab import files, drive"
      ]
    },
    {
      "cell_type": "code",
      "source": [
        "drive.mount('/content/gdrive')"
      ],
      "metadata": {
        "colab": {
          "base_uri": "https://localhost:8080/"
        },
        "id": "8WBSFhiozDaD",
        "outputId": "06c3dc83-eb0d-4920-ea72-77b6141cb0cc"
      },
      "execution_count": null,
      "outputs": [
        {
          "output_type": "stream",
          "name": "stdout",
          "text": [
            "Mounted at /content/gdrive\n"
          ]
        }
      ]
    },
    {
      "cell_type": "code",
      "source": [
        "open_path_cnn = \"/content/gdrive/MyDrive/DATA606/Data/df_cnn_0514.csv\"\n",
        "open_path_fn = \"/content/gdrive/MyDrive/DATA606/Data/df_foxnews_0514.csv\"\n",
        "\n",
        "df_cnn = pd.read_csv(open_path_cnn)\n",
        "df_fn = pd.read_csv(open_path_fn)\n",
        "\n",
        "df_cnn =df_cnn.drop(columns='Unnamed: 0')\n",
        "df_fn =df_fn.drop(columns='Unnamed: 0')"
      ],
      "metadata": {
        "id": "xmmMu3Lsq4Ck"
      },
      "execution_count": null,
      "outputs": []
    },
    {
      "cell_type": "code",
      "source": [
        "df_cnn=df_cnn[['Title','lemma_string']]\n",
        "df_fn=df_fn[['Title','lemma_string']]\n",
        "\n",
        "df = pd.concat([df_cnn, df_fn], axis=0)\n",
        "\n",
        "df = df.reset_index()"
      ],
      "metadata": {
        "id": "G8EGsPjCWWO7"
      },
      "execution_count": null,
      "outputs": []
    },
    {
      "cell_type": "code",
      "source": [
        "df.head()"
      ],
      "metadata": {
        "colab": {
          "base_uri": "https://localhost:8080/",
          "height": 206
        },
        "id": "DqKCdlKmW94d",
        "outputId": "bdb56c30-48bd-4352-cd69-e8d7597f0516"
      },
      "execution_count": null,
      "outputs": [
        {
          "output_type": "execute_result",
          "data": {
            "text/plain": [
              "   index                                              Title  \\\n",
              "0      0  Opinion: It won't be long before extremists in...   \n",
              "1      1  Michael Osterholm: Covid-19 keeps firing 210-m...   \n",
              "2      2  Opinion: Katie Porter's example reveals a pivo...   \n",
              "3      3  Opinion: Why the baby formula shortage is so t...   \n",
              "4      4  Opinion: Trust in the Supreme Court is grievou...   \n",
              "\n",
              "                                        lemma_string  \n",
              "0  julian zelizer cnn political analyst professor...  \n",
              "1  peter bergen cnn 's national security analyst ...  \n",
              "2  ( cnn ) private meeting house democratic caucu...  \n",
              "3  syra madad dhsc msc mcp infectious disease epi...  \n",
              "4  barbara a. perry gerald l. baliles professor d...  "
            ],
            "text/html": [
              "\n",
              "  <div id=\"df-fbc56490-8bb8-4230-88d8-3c3b541aedca\">\n",
              "    <div class=\"colab-df-container\">\n",
              "      <div>\n",
              "<style scoped>\n",
              "    .dataframe tbody tr th:only-of-type {\n",
              "        vertical-align: middle;\n",
              "    }\n",
              "\n",
              "    .dataframe tbody tr th {\n",
              "        vertical-align: top;\n",
              "    }\n",
              "\n",
              "    .dataframe thead th {\n",
              "        text-align: right;\n",
              "    }\n",
              "</style>\n",
              "<table border=\"1\" class=\"dataframe\">\n",
              "  <thead>\n",
              "    <tr style=\"text-align: right;\">\n",
              "      <th></th>\n",
              "      <th>index</th>\n",
              "      <th>Title</th>\n",
              "      <th>lemma_string</th>\n",
              "    </tr>\n",
              "  </thead>\n",
              "  <tbody>\n",
              "    <tr>\n",
              "      <th>0</th>\n",
              "      <td>0</td>\n",
              "      <td>Opinion: It won't be long before extremists in...</td>\n",
              "      <td>julian zelizer cnn political analyst professor...</td>\n",
              "    </tr>\n",
              "    <tr>\n",
              "      <th>1</th>\n",
              "      <td>1</td>\n",
              "      <td>Michael Osterholm: Covid-19 keeps firing 210-m...</td>\n",
              "      <td>peter bergen cnn 's national security analyst ...</td>\n",
              "    </tr>\n",
              "    <tr>\n",
              "      <th>2</th>\n",
              "      <td>2</td>\n",
              "      <td>Opinion: Katie Porter's example reveals a pivo...</td>\n",
              "      <td>( cnn ) private meeting house democratic caucu...</td>\n",
              "    </tr>\n",
              "    <tr>\n",
              "      <th>3</th>\n",
              "      <td>3</td>\n",
              "      <td>Opinion: Why the baby formula shortage is so t...</td>\n",
              "      <td>syra madad dhsc msc mcp infectious disease epi...</td>\n",
              "    </tr>\n",
              "    <tr>\n",
              "      <th>4</th>\n",
              "      <td>4</td>\n",
              "      <td>Opinion: Trust in the Supreme Court is grievou...</td>\n",
              "      <td>barbara a. perry gerald l. baliles professor d...</td>\n",
              "    </tr>\n",
              "  </tbody>\n",
              "</table>\n",
              "</div>\n",
              "      <button class=\"colab-df-convert\" onclick=\"convertToInteractive('df-fbc56490-8bb8-4230-88d8-3c3b541aedca')\"\n",
              "              title=\"Convert this dataframe to an interactive table.\"\n",
              "              style=\"display:none;\">\n",
              "        \n",
              "  <svg xmlns=\"http://www.w3.org/2000/svg\" height=\"24px\"viewBox=\"0 0 24 24\"\n",
              "       width=\"24px\">\n",
              "    <path d=\"M0 0h24v24H0V0z\" fill=\"none\"/>\n",
              "    <path d=\"M18.56 5.44l.94 2.06.94-2.06 2.06-.94-2.06-.94-.94-2.06-.94 2.06-2.06.94zm-11 1L8.5 8.5l.94-2.06 2.06-.94-2.06-.94L8.5 2.5l-.94 2.06-2.06.94zm10 10l.94 2.06.94-2.06 2.06-.94-2.06-.94-.94-2.06-.94 2.06-2.06.94z\"/><path d=\"M17.41 7.96l-1.37-1.37c-.4-.4-.92-.59-1.43-.59-.52 0-1.04.2-1.43.59L10.3 9.45l-7.72 7.72c-.78.78-.78 2.05 0 2.83L4 21.41c.39.39.9.59 1.41.59.51 0 1.02-.2 1.41-.59l7.78-7.78 2.81-2.81c.8-.78.8-2.07 0-2.86zM5.41 20L4 18.59l7.72-7.72 1.47 1.35L5.41 20z\"/>\n",
              "  </svg>\n",
              "      </button>\n",
              "      \n",
              "  <style>\n",
              "    .colab-df-container {\n",
              "      display:flex;\n",
              "      flex-wrap:wrap;\n",
              "      gap: 12px;\n",
              "    }\n",
              "\n",
              "    .colab-df-convert {\n",
              "      background-color: #E8F0FE;\n",
              "      border: none;\n",
              "      border-radius: 50%;\n",
              "      cursor: pointer;\n",
              "      display: none;\n",
              "      fill: #1967D2;\n",
              "      height: 32px;\n",
              "      padding: 0 0 0 0;\n",
              "      width: 32px;\n",
              "    }\n",
              "\n",
              "    .colab-df-convert:hover {\n",
              "      background-color: #E2EBFA;\n",
              "      box-shadow: 0px 1px 2px rgba(60, 64, 67, 0.3), 0px 1px 3px 1px rgba(60, 64, 67, 0.15);\n",
              "      fill: #174EA6;\n",
              "    }\n",
              "\n",
              "    [theme=dark] .colab-df-convert {\n",
              "      background-color: #3B4455;\n",
              "      fill: #D2E3FC;\n",
              "    }\n",
              "\n",
              "    [theme=dark] .colab-df-convert:hover {\n",
              "      background-color: #434B5C;\n",
              "      box-shadow: 0px 1px 3px 1px rgba(0, 0, 0, 0.15);\n",
              "      filter: drop-shadow(0px 1px 2px rgba(0, 0, 0, 0.3));\n",
              "      fill: #FFFFFF;\n",
              "    }\n",
              "  </style>\n",
              "\n",
              "      <script>\n",
              "        const buttonEl =\n",
              "          document.querySelector('#df-fbc56490-8bb8-4230-88d8-3c3b541aedca button.colab-df-convert');\n",
              "        buttonEl.style.display =\n",
              "          google.colab.kernel.accessAllowed ? 'block' : 'none';\n",
              "\n",
              "        async function convertToInteractive(key) {\n",
              "          const element = document.querySelector('#df-fbc56490-8bb8-4230-88d8-3c3b541aedca');\n",
              "          const dataTable =\n",
              "            await google.colab.kernel.invokeFunction('convertToInteractive',\n",
              "                                                     [key], {});\n",
              "          if (!dataTable) return;\n",
              "\n",
              "          const docLinkHtml = 'Like what you see? Visit the ' +\n",
              "            '<a target=\"_blank\" href=https://colab.research.google.com/notebooks/data_table.ipynb>data table notebook</a>'\n",
              "            + ' to learn more about interactive tables.';\n",
              "          element.innerHTML = '';\n",
              "          dataTable['output_type'] = 'display_data';\n",
              "          await google.colab.output.renderOutput(dataTable, element);\n",
              "          const docLink = document.createElement('div');\n",
              "          docLink.innerHTML = docLinkHtml;\n",
              "          element.appendChild(docLink);\n",
              "        }\n",
              "      </script>\n",
              "    </div>\n",
              "  </div>\n",
              "  "
            ]
          },
          "metadata": {},
          "execution_count": 58
        }
      ]
    },
    {
      "cell_type": "code",
      "source": [
        "# Dictionary Creation\n",
        "\n",
        "cnn_dict = {i:df_cnn.lemma_string for i in range(len(df_cnn))}\n",
        "fn_dict = {i:df_fn.lemma_string for i in range(len(df_fn))}\n",
        "full_dict ={i:df.lemma_string for i in range(len(df))}"
      ],
      "metadata": {
        "id": "R3BcrIB4-ZhY"
      },
      "execution_count": null,
      "outputs": []
    },
    {
      "cell_type": "code",
      "source": [
        "# Vocabulary Creation\n",
        "\n",
        "import time\n",
        "\n",
        "combined = df.lemma_string.str.cat(sep = \" \")\n",
        "\n",
        "t1 = time.perf_counter()\n",
        "\n",
        "idx2word = {0:'PAD',1:'SOS',2:'EOS'}\n",
        "\n",
        "for word in combined.split():\n",
        "  if word not in idx2word.values():\n",
        "    idx2word[len(idx2word)] = word\n",
        "\n",
        "t2 = time.perf_counter()\n",
        "\n",
        "print(\"\\nTime to create vocabulary: %f seconds\" %(t2-t1))\n",
        "print(\"Length of Vocabulary: %d\" %(len(idx2word)))\n",
        "\n",
        "word2idx = {v: k for k, v in idx2word.items()}"
      ],
      "metadata": {
        "colab": {
          "base_uri": "https://localhost:8080/"
        },
        "id": "SOJTUzSzO0dN",
        "outputId": "58cdcb2b-901d-46eb-9f51-0bc366cf5352"
      },
      "execution_count": null,
      "outputs": [
        {
          "output_type": "stream",
          "name": "stdout",
          "text": [
            "\n",
            "Time to create vocabulary: 10.862478 seconds\n",
            "Length of Vocabulary: 15594\n"
          ]
        }
      ]
    },
    {
      "cell_type": "code",
      "source": [
        "# Finally, now that we have our data loaded, we can create a tensor object that can be passed into the model to be tested\n",
        "\n",
        "  \n",
        "#Splitting our string into individual vectors and creating a new column to be used below.\n",
        " \n",
        "df['vector'] = df.lemma_string.apply(lambda x: str(x.split(sep =\" \")))\n",
        "df['vector_length'] = df.vector.apply(lambda x: len(x))\n",
        "\n",
        "\n",
        "length = max(df.vector_length)\n",
        "\n",
        "\n",
        "# Finally, creating a mapper using the above vocabulary to assign values to each nonblank sentence.\n",
        "for position, vector in enumerate(df['vector']):\n",
        "  \n",
        "  # Creating an empty Pytorch tensor to be used in the model predictions\n",
        "  sentence_vector  = torch.zeros(((df['vector_length'][position])), dtype=torch.long)\n",
        "\n",
        "  # Running through each individual vector\n",
        "  for index, word in enumerate(vector): \n",
        "\n",
        "    sentence_vector[index] = word2idx[word]\n",
        "  df['tensor'] = sentence_vector"
      ],
      "metadata": {
        "id": "z24qNAca8kZK"
      },
      "execution_count": null,
      "outputs": []
    },
    {
      "cell_type": "markdown",
      "source": [
        "## **Model Loading**"
      ],
      "metadata": {
        "id": "z6EvmsvKUQOI"
      }
    },
    {
      "cell_type": "code",
      "source": [
        "# Instantiating the rnn that will be used with the state dict in the next cell to make predictions\n",
        "\n",
        "D = 64 \n",
        "vocab_size = len(idx2word)\n",
        "hidden_nodes = 256 \n",
        "classes = 6\n",
        "\n",
        "lossfunc = nn.CrossEntropyLoss()\n",
        "\n",
        "device = torch.device(\"cuda\") if torch.cuda.is_available() else torch.device(\"cpu\")\n",
        "\n",
        "model_best = = nn.Sequential(\n",
        "    nn.Embedding(vocab_size, D),\n",
        "    nn.RNN(D, hidden_nodes, batch_first = True),\n",
        "    LastTimeStep(),\n",
        "    nn.Linear(hidden_nodes, classes)\n",
        ")"
      ],
      "metadata": {
        "id": "Q-5UCPq_UvP1"
      },
      "execution_count": null,
      "outputs": []
    },
    {
      "cell_type": "code",
      "source": [
        "# Loading the best model created in the previous notebook it's state dictionary from after training.\n",
        "\n",
        "statedictpath = r\"/content/gdrive/My Drive/DATA606/BasicModels/BestModel/model_best.pt\"\n",
        "\n",
        "loader = torch.load(statedictpath)\n",
        "\n",
        "loader2 = loader['model_state_dict']\n",
        "\n",
        "model_best.load_state_dict(loader2)"
      ],
      "metadata": {
        "id": "I28kpZD8UStK"
      },
      "execution_count": null,
      "outputs": []
    },
    {
      "cell_type": "markdown",
      "source": [
        "## **Testing**\n",
        "\n",
        "Now that our trained model is loaded, all we have to do is predict on each sample.\n"
      ],
      "metadata": {
        "id": "3VrWcOjeVhTg"
      }
    },
    {
      "cell_type": "code",
      "source": [
        "# Creating a helper dictionary to transform the emotions into numbers (and vice versa)\n",
        "\n",
        "emotion = [\"Fear\", \"Anger\", \"Sadness\",\"Joy\",\"Love\",\"Surprise\"]\n",
        "\n",
        "num_to_emotion = {i:emotion[i] for i in range(len(emotion))}\n",
        "emotion_to_letter = {emotion[i]:i for i in range(len(emotion))}\n",
        "\n",
        "print(emotion_to_letter)"
      ],
      "metadata": {
        "colab": {
          "base_uri": "https://localhost:8080/"
        },
        "id": "VM-us82sfnkp",
        "outputId": "ce662264-b24d-4935-d804-d53a4888347f"
      },
      "execution_count": null,
      "outputs": [
        {
          "output_type": "stream",
          "name": "stdout",
          "text": [
            "{'Fear': 0, 'Anger': 1, 'Sadness': 2, 'Joy': 3, 'Love': 4, 'Surprise': 5}\n"
          ]
        }
      ]
    },
    {
      "cell_type": "code",
      "source": [
        "# Creating a function to predict each individual article\n",
        "\n",
        "def predict(location, model):\n",
        "  # Running the input (in this case, a dataframe's row) through the model\n",
        "  prediction = model(location)\n",
        "  # Transforming the output into a a softmax function\n",
        "  prediction = F.softmax(prediction, dim=1) \n",
        "  # Getting the index of the max output from the softmax function, which is the class with the highest probability\n",
        "  output = prediction[0].index(max(prediction[0])) \n",
        "  # Using the previous helper function to get the emotion assigned to each integer \n",
        "  output = num_to_emotion(output)\n",
        "  return output"
      ],
      "metadata": {
        "id": "DRCYX06ecN63"
      },
      "execution_count": null,
      "outputs": []
    },
    {
      "cell_type": "code",
      "source": [
        "# Creating a new column that predicts each input value\n",
        "\n",
        "df['prediction'] = df['tensor'].apply(lambda x: predict(x, model_best))\n",
        "\n",
        "df['sentiment'] = df['lemma_string'].apply(lambda x: TextBlob(x).sentiment.polarity)"
      ],
      "metadata": {
        "id": "-d9adQJ-cN3_"
      },
      "execution_count": null,
      "outputs": []
    },
    {
      "cell_type": "code",
      "source": [
        "# CNN Output\n",
        "\n",
        "df_sub = df.loc[df['Site'] == 'Cnn']\n",
        "\n",
        "len = len(df_sub)\n",
        "\n",
        "cnn_results = df_sub['prediction'].value_counts()\n",
        "\n",
        "plt.title(\"CNN Predictions\")\n",
        "sns.barplot(x=emotion,y=cnn_results/len)\n",
        "plt.show()"
      ],
      "metadata": {
        "colab": {
          "base_uri": "https://localhost:8080/",
          "height": 281
        },
        "id": "-LzDXQC1cN03",
        "outputId": "fa955de8-5dc7-4253-a31f-95f098611e30"
      },
      "execution_count": null,
      "outputs": [
        {
          "output_type": "display_data",
          "data": {
            "text/plain": [
              "<Figure size 432x288 with 1 Axes>"
            ],
            "image/png": "[encoded data removed]"
          },
          "metadata": {
            "needs_background": "light"
          }
        }
      ]
    },
    {
      "cell_type": "code",
      "source": [
        "# Fox News Output\n",
        "df_sub = df.loc[df['Site'] == 'Fox'] \n",
        "\n",
        "len = len(df_sub)\n",
        "\n",
        "fn_results = df_sub['prediction'].value_counts()\n",
        "\n",
        "plt.title(\"Fox News Predictions\")\n",
        "sns.barplot(x=emotion,y=fn_results/len)\n",
        "plt.show()"
      ],
      "metadata": {
        "colab": {
          "base_uri": "https://localhost:8080/",
          "height": 281
        },
        "id": "uiWFiARDkAsv",
        "outputId": "1ef478e3-4e04-4e3b-e85d-8bf80b330ff8"
      },
      "execution_count": null,
      "outputs": [
        {
          "output_type": "display_data",
          "data": {
            "text/plain": [
              "<Figure size 432x288 with 1 Axes>"
            ],
            "image/png": "[encoded data removed]"
          },
          "metadata": {
            "needs_background": "light"
          }
        }
      ]
    },
    {
      "cell_type": "code",
      "source": [
        "# Full Dataset Output\n",
        "\n",
        "full_results = df[['prediction']].value_counts()\n",
        "\n",
        "len = len(df)\n",
        "\n",
        "plt.title(\"Full Dataset Predictions\")\n",
        "sns.barplot(x=emotion,y=full_results/len)\n",
        "plt.show()"
      ],
      "metadata": {
        "colab": {
          "base_uri": "https://localhost:8080/",
          "height": 281
        },
        "id": "XycyG2BerFao",
        "outputId": "ca73caf4-23c2-40c9-b4cf-a2c5e98a0719"
      },
      "execution_count": null,
      "outputs": [
        {
          "output_type": "display_data",
          "data": {
            "text/plain": [
              "<Figure size 432x288 with 1 Axes>"
            ],
            "image/png": "[encoded data removed]"
          },
          "metadata": {
            "needs_background": "light"
          }
        }
      ]
    },
    {
      "cell_type": "code",
      "source": [
        "# Creating a histogram of the polarity of the articles\n",
        "\n",
        "\n",
        "plt.figure(figsize=(15,15))\n",
        "plt.title(\"Article Polarity Histogram\")\n",
        "sns.histplot(df['sentiment'],bins=10)\n",
        "plt.show()"
      ],
      "metadata": {
        "colab": {
          "base_uri": "https://localhost:8080/",
          "height": 650
        },
        "id": "zEEbtdTBWJY9",
        "outputId": "6d27445b-405d-4359-c606-7bff532cd827"
      },
      "execution_count": null,
      "outputs": [
        {
          "output_type": "display_data",
          "data": {
            "text/plain": [
              "<Figure size 1080x1080 with 1 Axes>"
            ],
            "image/png": "[encoded data removed]"
          },
          "metadata": {
            "needs_background": "light"
          }
        }
      ]
    }
  ]
}