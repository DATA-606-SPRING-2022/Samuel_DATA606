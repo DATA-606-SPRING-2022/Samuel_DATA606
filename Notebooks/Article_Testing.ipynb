{
  "nbformat": 4,
  "nbformat_minor": 0,
  "metadata": {
    "colab": {
      "name": "Article Testing",
      "provenance": [],
      "authorship_tag": "ABX9TyMs2JLYPrzTCp4jDEGao3ki",
      "include_colab_link": true
    },
    "kernelspec": {
      "name": "python3",
      "display_name": "Python 3"
    },
    "language_info": {
      "name": "python"
    }
  },
  "cells": [
    {
      "cell_type": "markdown",
      "metadata": {
        "id": "view-in-github",
        "colab_type": "text"
      },
      "source": [
        "<a href=\"https://colab.research.google.com/github/skbetz54/Samuel_DATA606/blob/main/Notebooks/Article_Testing.ipynb\" target=\"_parent\"><img src=\"https://colab.research.google.com/assets/colab-badge.svg\" alt=\"Open In Colab\"/></a>"
      ]
    },
    {
      "cell_type": "code",
      "execution_count": 1,
      "metadata": {
        "colab": {
          "base_uri": "https://localhost:8080/"
        },
        "id": "D9qY-E3nqvBQ",
        "outputId": "c674de0e-8a1f-421b-a826-e73a89b72120"
      },
      "outputs": [
        {
          "output_type": "stream",
          "name": "stdout",
          "text": [
            "Collecting contractions\n",
            "  Downloading contractions-0.1.72-py2.py3-none-any.whl (8.3 kB)\n",
            "Collecting textsearch>=0.0.21\n",
            "  Downloading textsearch-0.0.21-py2.py3-none-any.whl (7.5 kB)\n",
            "Collecting pyahocorasick\n",
            "  Downloading pyahocorasick-1.4.4-cp37-cp37m-manylinux_2_17_x86_64.manylinux2014_x86_64.whl (106 kB)\n",
            "\u001b[K     |████████████████████████████████| 106 kB 9.1 MB/s \n",
            "\u001b[?25hCollecting anyascii\n",
            "  Downloading anyascii-0.3.1-py3-none-any.whl (287 kB)\n",
            "\u001b[K     |████████████████████████████████| 287 kB 48.0 MB/s \n",
            "\u001b[?25hInstalling collected packages: pyahocorasick, anyascii, textsearch, contractions\n",
            "Successfully installed anyascii-0.3.1 contractions-0.1.72 pyahocorasick-1.4.4 textsearch-0.0.21\n",
            "Requirement already satisfied: textblob in /usr/local/lib/python3.7/dist-packages (0.15.3)\n",
            "Requirement already satisfied: nltk>=3.1 in /usr/local/lib/python3.7/dist-packages (from textblob) (3.2.5)\n",
            "Requirement already satisfied: six in /usr/local/lib/python3.7/dist-packages (from nltk>=3.1->textblob) (1.15.0)\n",
            "Collecting newspaper3k\n",
            "  Downloading newspaper3k-0.2.8-py3-none-any.whl (211 kB)\n",
            "\u001b[K     |████████████████████████████████| 211 kB 5.3 MB/s \n",
            "\u001b[?25hRequirement already satisfied: lxml>=3.6.0 in /usr/local/lib/python3.7/dist-packages (from newspaper3k) (4.2.6)\n",
            "Requirement already satisfied: Pillow>=3.3.0 in /usr/local/lib/python3.7/dist-packages (from newspaper3k) (7.1.2)\n",
            "Collecting tinysegmenter==0.3\n",
            "  Downloading tinysegmenter-0.3.tar.gz (16 kB)\n",
            "Collecting jieba3k>=0.35.1\n",
            "  Downloading jieba3k-0.35.1.zip (7.4 MB)\n",
            "\u001b[K     |████████████████████████████████| 7.4 MB 37.3 MB/s \n",
            "\u001b[?25hRequirement already satisfied: beautifulsoup4>=4.4.1 in /usr/local/lib/python3.7/dist-packages (from newspaper3k) (4.6.3)\n",
            "Collecting tldextract>=2.0.1\n",
            "  Downloading tldextract-3.3.0-py3-none-any.whl (93 kB)\n",
            "\u001b[K     |████████████████████████████████| 93 kB 901 kB/s \n",
            "\u001b[?25hCollecting cssselect>=0.9.2\n",
            "  Downloading cssselect-1.1.0-py2.py3-none-any.whl (16 kB)\n",
            "Requirement already satisfied: nltk>=3.2.1 in /usr/local/lib/python3.7/dist-packages (from newspaper3k) (3.2.5)\n",
            "Collecting feedparser>=5.2.1\n",
            "  Downloading feedparser-6.0.8-py3-none-any.whl (81 kB)\n",
            "\u001b[K     |████████████████████████████████| 81 kB 7.4 MB/s \n",
            "\u001b[?25hRequirement already satisfied: PyYAML>=3.11 in /usr/local/lib/python3.7/dist-packages (from newspaper3k) (3.13)\n",
            "Requirement already satisfied: python-dateutil>=2.5.3 in /usr/local/lib/python3.7/dist-packages (from newspaper3k) (2.8.2)\n",
            "Requirement already satisfied: requests>=2.10.0 in /usr/local/lib/python3.7/dist-packages (from newspaper3k) (2.23.0)\n",
            "Collecting feedfinder2>=0.0.4\n",
            "  Downloading feedfinder2-0.0.4.tar.gz (3.3 kB)\n",
            "Requirement already satisfied: six in /usr/local/lib/python3.7/dist-packages (from feedfinder2>=0.0.4->newspaper3k) (1.15.0)\n",
            "Collecting sgmllib3k\n",
            "  Downloading sgmllib3k-1.0.0.tar.gz (5.8 kB)\n",
            "Requirement already satisfied: urllib3!=1.25.0,!=1.25.1,<1.26,>=1.21.1 in /usr/local/lib/python3.7/dist-packages (from requests>=2.10.0->newspaper3k) (1.24.3)\n",
            "Requirement already satisfied: idna<3,>=2.5 in /usr/local/lib/python3.7/dist-packages (from requests>=2.10.0->newspaper3k) (2.10)\n",
            "Requirement already satisfied: chardet<4,>=3.0.2 in /usr/local/lib/python3.7/dist-packages (from requests>=2.10.0->newspaper3k) (3.0.4)\n",
            "Requirement already satisfied: certifi>=2017.4.17 in /usr/local/lib/python3.7/dist-packages (from requests>=2.10.0->newspaper3k) (2021.10.8)\n",
            "Collecting requests-file>=1.4\n",
            "  Downloading requests_file-1.5.1-py2.py3-none-any.whl (3.7 kB)\n",
            "Requirement already satisfied: filelock>=3.0.8 in /usr/local/lib/python3.7/dist-packages (from tldextract>=2.0.1->newspaper3k) (3.6.0)\n",
            "Building wheels for collected packages: tinysegmenter, feedfinder2, jieba3k, sgmllib3k\n",
            "  Building wheel for tinysegmenter (setup.py) ... \u001b[?25l\u001b[?25hdone\n",
            "  Created wheel for tinysegmenter: filename=tinysegmenter-0.3-py3-none-any.whl size=13553 sha256=95b668942d76f1ea0484021d91bbe0ea407aedac86d0ee0febde0a403484e15a\n",
            "  Stored in directory: /root/.cache/pip/wheels/df/67/41/faca10fa501ca010be41b49d40360c2959e1c4f09bcbfa37fa\n",
            "  Building wheel for feedfinder2 (setup.py) ... \u001b[?25l\u001b[?25hdone\n",
            "  Created wheel for feedfinder2: filename=feedfinder2-0.0.4-py3-none-any.whl size=3357 sha256=aac69a279bcedaaeae450b5429cec1d26856b5daa405719e07096e73f9e7ae9e\n",
            "  Stored in directory: /root/.cache/pip/wheels/7f/d4/8f/6e2ca54744c9d7292d88ddb8d42876bcdab5e6d84a21c10346\n",
            "  Building wheel for jieba3k (setup.py) ... \u001b[?25l\u001b[?25hdone\n",
            "  Created wheel for jieba3k: filename=jieba3k-0.35.1-py3-none-any.whl size=7398404 sha256=3e4a1e3d76922f675c32761aab538dd4e1cd5275f59f98af1b48e1b76fa8c14e\n",
            "  Stored in directory: /root/.cache/pip/wheels/4c/91/46/3c208287b726df325a5979574324878b679116e4baae1af3c3\n",
            "  Building wheel for sgmllib3k (setup.py) ... \u001b[?25l\u001b[?25hdone\n",
            "  Created wheel for sgmllib3k: filename=sgmllib3k-1.0.0-py3-none-any.whl size=6066 sha256=011ebcb97e68e04a2d87e0a27be6ade2738083f44a598c4c182006092adce28e\n",
            "  Stored in directory: /root/.cache/pip/wheels/73/ad/a4/0dff4a6ef231fc0dfa12ffbac2a36cebfdddfe059f50e019aa\n",
            "Successfully built tinysegmenter feedfinder2 jieba3k sgmllib3k\n",
            "Installing collected packages: sgmllib3k, requests-file, tldextract, tinysegmenter, jieba3k, feedparser, feedfinder2, cssselect, newspaper3k\n",
            "Successfully installed cssselect-1.1.0 feedfinder2-0.0.4 feedparser-6.0.8 jieba3k-0.35.1 newspaper3k-0.2.8 requests-file-1.5.1 sgmllib3k-1.0.0 tinysegmenter-0.3 tldextract-3.3.0\n",
            "[nltk_data] Downloading package punkt to /root/nltk_data...\n",
            "[nltk_data]   Unzipping tokenizers/punkt.zip.\n",
            "[nltk_data] Downloading package stopwords to /root/nltk_data...\n",
            "[nltk_data]   Unzipping corpora/stopwords.zip.\n",
            "[nltk_data] Downloading package averaged_perceptron_tagger to\n",
            "[nltk_data]     /root/nltk_data...\n",
            "[nltk_data]   Unzipping taggers/averaged_perceptron_tagger.zip.\n",
            "[nltk_data] Downloading package wordnet to /root/nltk_data...\n",
            "[nltk_data]   Unzipping corpora/wordnet.zip.\n"
          ]
        }
      ],
      "source": [
        "!pip install contractions # used to get rid of contractions (in real-world news articles)\n",
        "!pip install textblob # used for quantifying polarity of the tweets in the dataset.\n",
        "!pip install newspaper3k\n",
        "\n",
        "import pandas as pd\n",
        "import lxml\n",
        "from lxml.html import fromstring, tostring\n",
        "\n",
        "from newspaper import Article\n",
        "import newspaper\n",
        "# import BeautifulSoup4 as bs4\n",
        "\n",
        "import os\n",
        "\n",
        "import pandas as pd\n",
        "import numpy as np\n",
        "import matplotlib.pyplot as plt\n",
        "import seaborn as sns\n",
        "\n",
        "import torchtext\n",
        "import pickle\n",
        "import contractions\n",
        "\n",
        "#Preprocessing Functions\n",
        "from sklearn.utils import shuffle\n",
        "import nltk\n",
        "from nltk.tokenize import word_tokenize\n",
        "from nltk.corpus import wordnet, stopwords\n",
        "from nltk.stem import WordNetLemmatizer\n",
        "\n",
        "nltk.download('punkt') # punkt is a dependency used for nltk's  function \"word_tokenize\" that does not come when you import nltk\n",
        "nltk.download('stopwords') # NLTK has a built-in dictionary of stop words that will be used when removing stopwords from the data\n",
        "nltk.download('averaged_perceptron_tagger') # package that assigns parts of speech, to be used in lemmatization\n",
        "nltk.download('wordnet') # Added because the above import from corpus sometimes does not work.\n",
        "from nltk.tag import pos_tag # Another package used in lemmatization to import parts of speech for words\n",
        "\n",
        "from wordcloud import WordCloud # EDA Tool\n",
        "from textblob import TextBlob\n",
        "\n",
        "from google.colab import files, drive"
      ]
    },
    {
      "cell_type": "code",
      "source": [
        "drive.mount('/content/gdrive')"
      ],
      "metadata": {
        "colab": {
          "base_uri": "https://localhost:8080/"
        },
        "id": "8WBSFhiozDaD",
        "outputId": "36634ff0-5770-450a-c0f0-43fb9c406789"
      },
      "execution_count": 2,
      "outputs": [
        {
          "output_type": "stream",
          "name": "stdout",
          "text": [
            "Mounted at /content/gdrive\n"
          ]
        }
      ]
    },
    {
      "cell_type": "code",
      "source": [
        "open_path_cnn = \"/content/gdrive/MyDrive/DATA606/Data/df_cnn_0514.csv\"\n",
        "open_path_fn = \"/content/gdrive/MyDrive/DATA606/Data/df_foxnews_0514.csv\"\n",
        "\n",
        "df_cnn = pd.read_csv(open_path_cnn)\n",
        "df_fn = pd.read_csv(open_path_fn)\n",
        "\n",
        "df_cnn =df_cnn.drop(columns='Unnamed: 0')\n",
        "df_fn =df_fn.drop(columns='Unnamed: 0')"
      ],
      "metadata": {
        "id": "xmmMu3Lsq4Ck"
      },
      "execution_count": 3,
      "outputs": []
    },
    {
      "cell_type": "code",
      "source": [
        "df_cnn=df_cnn[['Title','lemma_string']]\n",
        "df_fn=df_fn[['Title','lemma_string']]\n",
        "\n",
        "df = pd.concat([df_cnn, df_fn], axis=0)"
      ],
      "metadata": {
        "id": "G8EGsPjCWWO7"
      },
      "execution_count": 4,
      "outputs": []
    },
    {
      "cell_type": "code",
      "source": [
        "df.head()"
      ],
      "metadata": {
        "colab": {
          "base_uri": "https://localhost:8080/",
          "height": 206
        },
        "id": "DqKCdlKmW94d",
        "outputId": "483292a8-c901-423f-974b-f4375f1b7835"
      },
      "execution_count": 21,
      "outputs": [
        {
          "output_type": "execute_result",
          "data": {
            "text/plain": [
              "                                               Title  \\\n",
              "0  Opinion: It won't be long before extremists in...   \n",
              "1  Michael Osterholm: Covid-19 keeps firing 210-m...   \n",
              "2  Opinion: Katie Porter's example reveals a pivo...   \n",
              "3  Opinion: Why the baby formula shortage is so t...   \n",
              "4  Opinion: Trust in the Supreme Court is grievou...   \n",
              "\n",
              "                                        lemma_string Site  \n",
              "0  julian zelizer cnn political analyst professor...  Cnn  \n",
              "1  peter bergen cnn 's national security analyst ...  Cnn  \n",
              "2  ( cnn ) private meeting house democratic caucu...  Cnn  \n",
              "3  syra madad dhsc msc mcp infectious disease epi...  Cnn  \n",
              "4  barbara a. perry gerald l. baliles professor d...  Cnn  "
            ],
            "text/html": [
              "\n",
              "  <div id=\"df-2bea5ed7-9a6f-4d21-9418-12428069c36f\">\n",
              "    <div class=\"colab-df-container\">\n",
              "      <div>\n",
              "<style scoped>\n",
              "    .dataframe tbody tr th:only-of-type {\n",
              "        vertical-align: middle;\n",
              "    }\n",
              "\n",
              "    .dataframe tbody tr th {\n",
              "        vertical-align: top;\n",
              "    }\n",
              "\n",
              "    .dataframe thead th {\n",
              "        text-align: right;\n",
              "    }\n",
              "</style>\n",
              "<table border=\"1\" class=\"dataframe\">\n",
              "  <thead>\n",
              "    <tr style=\"text-align: right;\">\n",
              "      <th></th>\n",
              "      <th>Title</th>\n",
              "      <th>lemma_string</th>\n",
              "      <th>Site</th>\n",
              "    </tr>\n",
              "  </thead>\n",
              "  <tbody>\n",
              "    <tr>\n",
              "      <th>0</th>\n",
              "      <td>Opinion: It won't be long before extremists in...</td>\n",
              "      <td>julian zelizer cnn political analyst professor...</td>\n",
              "      <td>Cnn</td>\n",
              "    </tr>\n",
              "    <tr>\n",
              "      <th>1</th>\n",
              "      <td>Michael Osterholm: Covid-19 keeps firing 210-m...</td>\n",
              "      <td>peter bergen cnn 's national security analyst ...</td>\n",
              "      <td>Cnn</td>\n",
              "    </tr>\n",
              "    <tr>\n",
              "      <th>2</th>\n",
              "      <td>Opinion: Katie Porter's example reveals a pivo...</td>\n",
              "      <td>( cnn ) private meeting house democratic caucu...</td>\n",
              "      <td>Cnn</td>\n",
              "    </tr>\n",
              "    <tr>\n",
              "      <th>3</th>\n",
              "      <td>Opinion: Why the baby formula shortage is so t...</td>\n",
              "      <td>syra madad dhsc msc mcp infectious disease epi...</td>\n",
              "      <td>Cnn</td>\n",
              "    </tr>\n",
              "    <tr>\n",
              "      <th>4</th>\n",
              "      <td>Opinion: Trust in the Supreme Court is grievou...</td>\n",
              "      <td>barbara a. perry gerald l. baliles professor d...</td>\n",
              "      <td>Cnn</td>\n",
              "    </tr>\n",
              "  </tbody>\n",
              "</table>\n",
              "</div>\n",
              "      <button class=\"colab-df-convert\" onclick=\"convertToInteractive('df-2bea5ed7-9a6f-4d21-9418-12428069c36f')\"\n",
              "              title=\"Convert this dataframe to an interactive table.\"\n",
              "              style=\"display:none;\">\n",
              "        \n",
              "  <svg xmlns=\"http://www.w3.org/2000/svg\" height=\"24px\"viewBox=\"0 0 24 24\"\n",
              "       width=\"24px\">\n",
              "    <path d=\"M0 0h24v24H0V0z\" fill=\"none\"/>\n",
              "    <path d=\"M18.56 5.44l.94 2.06.94-2.06 2.06-.94-2.06-.94-.94-2.06-.94 2.06-2.06.94zm-11 1L8.5 8.5l.94-2.06 2.06-.94-2.06-.94L8.5 2.5l-.94 2.06-2.06.94zm10 10l.94 2.06.94-2.06 2.06-.94-2.06-.94-.94-2.06-.94 2.06-2.06.94z\"/><path d=\"M17.41 7.96l-1.37-1.37c-.4-.4-.92-.59-1.43-.59-.52 0-1.04.2-1.43.59L10.3 9.45l-7.72 7.72c-.78.78-.78 2.05 0 2.83L4 21.41c.39.39.9.59 1.41.59.51 0 1.02-.2 1.41-.59l7.78-7.78 2.81-2.81c.8-.78.8-2.07 0-2.86zM5.41 20L4 18.59l7.72-7.72 1.47 1.35L5.41 20z\"/>\n",
              "  </svg>\n",
              "      </button>\n",
              "      \n",
              "  <style>\n",
              "    .colab-df-container {\n",
              "      display:flex;\n",
              "      flex-wrap:wrap;\n",
              "      gap: 12px;\n",
              "    }\n",
              "\n",
              "    .colab-df-convert {\n",
              "      background-color: #E8F0FE;\n",
              "      border: none;\n",
              "      border-radius: 50%;\n",
              "      cursor: pointer;\n",
              "      display: none;\n",
              "      fill: #1967D2;\n",
              "      height: 32px;\n",
              "      padding: 0 0 0 0;\n",
              "      width: 32px;\n",
              "    }\n",
              "\n",
              "    .colab-df-convert:hover {\n",
              "      background-color: #E2EBFA;\n",
              "      box-shadow: 0px 1px 2px rgba(60, 64, 67, 0.3), 0px 1px 3px 1px rgba(60, 64, 67, 0.15);\n",
              "      fill: #174EA6;\n",
              "    }\n",
              "\n",
              "    [theme=dark] .colab-df-convert {\n",
              "      background-color: #3B4455;\n",
              "      fill: #D2E3FC;\n",
              "    }\n",
              "\n",
              "    [theme=dark] .colab-df-convert:hover {\n",
              "      background-color: #434B5C;\n",
              "      box-shadow: 0px 1px 3px 1px rgba(0, 0, 0, 0.15);\n",
              "      filter: drop-shadow(0px 1px 2px rgba(0, 0, 0, 0.3));\n",
              "      fill: #FFFFFF;\n",
              "    }\n",
              "  </style>\n",
              "\n",
              "      <script>\n",
              "        const buttonEl =\n",
              "          document.querySelector('#df-2bea5ed7-9a6f-4d21-9418-12428069c36f button.colab-df-convert');\n",
              "        buttonEl.style.display =\n",
              "          google.colab.kernel.accessAllowed ? 'block' : 'none';\n",
              "\n",
              "        async function convertToInteractive(key) {\n",
              "          const element = document.querySelector('#df-2bea5ed7-9a6f-4d21-9418-12428069c36f');\n",
              "          const dataTable =\n",
              "            await google.colab.kernel.invokeFunction('convertToInteractive',\n",
              "                                                     [key], {});\n",
              "          if (!dataTable) return;\n",
              "\n",
              "          const docLinkHtml = 'Like what you see? Visit the ' +\n",
              "            '<a target=\"_blank\" href=https://colab.research.google.com/notebooks/data_table.ipynb>data table notebook</a>'\n",
              "            + ' to learn more about interactive tables.';\n",
              "          element.innerHTML = '';\n",
              "          dataTable['output_type'] = 'display_data';\n",
              "          await google.colab.output.renderOutput(dataTable, element);\n",
              "          const docLink = document.createElement('div');\n",
              "          docLink.innerHTML = docLinkHtml;\n",
              "          element.appendChild(docLink);\n",
              "        }\n",
              "      </script>\n",
              "    </div>\n",
              "  </div>\n",
              "  "
            ]
          },
          "metadata": {},
          "execution_count": 21
        }
      ]
    },
    {
      "cell_type": "markdown",
      "source": [
        "## **Model Loading**"
      ],
      "metadata": {
        "id": "z6EvmsvKUQOI"
      }
    },
    {
      "cell_type": "code",
      "source": [
        "model_best = = nn.Sequential(\n",
        "    nn.Embedding(vocab_size, D),\n",
        "    nn.RNN(D, hidden_nodes, batch_first = True),\n",
        "    LastTimeStep(),\n",
        "    nn.Linear(hidden_nodes, classes)\n",
        ")"
      ],
      "metadata": {
        "id": "Q-5UCPq_UvP1"
      },
      "execution_count": null,
      "outputs": []
    },
    {
      "cell_type": "code",
      "source": [
        "statedictpath = r\"/content/gdrive/My Drive/DATA606/BasicModels/BestModel/model_best.pt\"\n",
        "\n",
        "loader = torch.load(statedictpath)\n",
        "\n",
        "loader2 = loader['model_state_dict']\n",
        "\n",
        "model_best.load_state_dict(loader2)"
      ],
      "metadata": {
        "id": "I28kpZD8UStK"
      },
      "execution_count": null,
      "outputs": []
    },
    {
      "cell_type": "markdown",
      "source": [
        "## **Testing**\n",
        "\n",
        "Now that our trained model is loaded, all we have to do is predict on each sample.\n"
      ],
      "metadata": {
        "id": "3VrWcOjeVhTg"
      }
    },
    {
      "cell_type": "code",
      "source": [
        "# Creating a helper dictionary to transform the emotions into numbers (and vice versa)\n",
        "\n",
        "emotion = [\"Fear\", \"Anger\", \"Sadness\",\"Joy\",\"Love\",\"Surprise\"]\n",
        "\n",
        "num_to_emotion = {i:emotion[i] for i in range(len(emotion))}\n",
        "emotion_to_letter = {emotion[i]:i for i in range(len(emotion))}\n",
        "\n",
        "print(emotion_to_letter)"
      ],
      "metadata": {
        "colab": {
          "base_uri": "https://localhost:8080/"
        },
        "id": "VM-us82sfnkp",
        "outputId": "ce662264-b24d-4935-d804-d53a4888347f"
      },
      "execution_count": 17,
      "outputs": [
        {
          "output_type": "stream",
          "name": "stdout",
          "text": [
            "{'Fear': 0, 'Anger': 1, 'Sadness': 2, 'Joy': 3, 'Love': 4, 'Surprise': 5}\n"
          ]
        }
      ]
    },
    {
      "cell_type": "code",
      "source": [
        "# Creating a function to predict each individual article\n",
        "\n",
        "def predict(location, model):\n",
        "  # Running the input (in this case, a dataframe's row) through the model\n",
        "  prediction = model(location)\n",
        "  # Transforming the output into a a softmax function\n",
        "  prediction = F.softmax(prediction, dim=1) \n",
        "  # Getting the index of the max output from the softmax function, which is the class with the highest probability\n",
        "  output = prediction[0].index(max(prediction[0])) \n",
        "  # Using the previous helper function to get the emotion assigned to each integer \n",
        "  output = num_to_emotion(output)\n",
        "  return output"
      ],
      "metadata": {
        "id": "DRCYX06ecN63"
      },
      "execution_count": null,
      "outputs": []
    },
    {
      "cell_type": "code",
      "source": [
        "# Creating a new column that predicts each input value\n",
        "\n",
        "df['prediction'] = df['lemma_string'].apply(lambda x: predict(x))\n",
        "\n",
        "\n",
        "df['sentiment'] = df['lemma_string'].apply(lambda x: TextBlob(x).sentiment.polarity)"
      ],
      "metadata": {
        "id": "-d9adQJ-cN3_"
      },
      "execution_count": null,
      "outputs": []
    },
    {
      "cell_type": "code",
      "source": [
        "# CNN Output\n",
        "\n",
        "df_sub = df.loc[df['Site'] == 'Cnn']\n",
        "\n",
        "cnn_results = df_sub['prediction']\n",
        "\n",
        "plt.title(\"CNN Predictions\")\n",
        "sns.barplot(x=emotion,y=cnn_results)\n",
        "plt.show()"
      ],
      "metadata": {
        "colab": {
          "base_uri": "https://localhost:8080/",
          "height": 281
        },
        "id": "-LzDXQC1cN03",
        "outputId": "fa955de8-5dc7-4253-a31f-95f098611e30"
      },
      "execution_count": 32,
      "outputs": [
        {
          "output_type": "display_data",
          "data": {
            "text/plain": [
              "<Figure size 432x288 with 1 Axes>"
            ],
            "image/png": "[encoded data removed]"
          },
          "metadata": {
            "needs_background": "light"
          }
        }
      ]
    },
    {
      "cell_type": "code",
      "source": [
        "# Fox News Output\n",
        "df_sub = df.loc[df['Site'] == 'Fox'] \n",
        "fn_results = df_sub['prediction']\n",
        "\n",
        "plt.title(\"Fox News Predictions\")\n",
        "sns.barplot(x=emotion,y=fn_results)\n",
        "plt.show()"
      ],
      "metadata": {
        "colab": {
          "base_uri": "https://localhost:8080/",
          "height": 281
        },
        "id": "uiWFiARDkAsv",
        "outputId": "1ef478e3-4e04-4e3b-e85d-8bf80b330ff8"
      },
      "execution_count": 25,
      "outputs": [
        {
          "output_type": "display_data",
          "data": {
            "text/plain": [
              "<Figure size 432x288 with 1 Axes>"
            ],
            "image/png": "[encoded data removed]"
          },
          "metadata": {
            "needs_background": "light"
          }
        }
      ]
    },
    {
      "cell_type": "code",
      "source": [
        "# Full Dataset Output\n",
        "\n",
        "full_results = df[['prediction']]\n",
        "\n",
        "plt.title(\"Full Dataset Predictions\")\n",
        "sns.barplot(x=emotion,y=full_results)\n",
        "plt.show()"
      ],
      "metadata": {
        "colab": {
          "base_uri": "https://localhost:8080/",
          "height": 281
        },
        "id": "XycyG2BerFao",
        "outputId": "ca73caf4-23c2-40c9-b4cf-a2c5e98a0719"
      },
      "execution_count": 45,
      "outputs": [
        {
          "output_type": "display_data",
          "data": {
            "text/plain": [
              "<Figure size 432x288 with 1 Axes>"
            ],
            "image/png": "[encoded data removed]"
          },
          "metadata": {
            "needs_background": "light"
          }
        }
      ]
    }
  ]
}