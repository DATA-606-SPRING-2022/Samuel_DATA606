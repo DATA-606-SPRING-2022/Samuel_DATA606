{
  "nbformat": 4,
  "nbformat_minor": 0,
  "metadata": {
    "colab": {
      "name": "Articles Testing",
      "provenance": [],
      "collapsed_sections": [],
      "authorship_tag": "ABX9TyMdMum4jpQMFkBd3gMMXJRH",
      "include_colab_link": true
    },
    "kernelspec": {
      "name": "python3",
      "display_name": "Python 3"
    },
    "language_info": {
      "name": "python"
    }
  },
  "cells": [
    {
      "cell_type": "markdown",
      "metadata": {
        "id": "view-in-github",
        "colab_type": "text"
      },
      "source": [
        "<a href=\"https://colab.research.google.com/github/skbetz54/Samuel_DATA606/blob/main/Notebooks/Articles_Testing.ipynb\" target=\"_parent\"><img src=\"https://colab.research.google.com/assets/colab-badge.svg\" alt=\"Open In Colab\"/></a>"
      ]
    },
    {
      "cell_type": "markdown",
      "source": [
        "# **Article Testing**\n",
        "\n",
        "The final Part of this project is to take what I've made in the [previous notebook](https://github.com/skbetz54/Samuel_DATA606/blob/main/Notebooks/Machine_Learning_Implementation.ipynb), it is finally time to test my RNN on real-world news articles from CNN and Fox News. The notebook contains several steps:\n",
        "\n",
        "1. Data loading and cleaning - the data is loaded into the notebook and cleaned into a format that is applicable for testing in the RNN. This includes the standard text cleaning as well as creating a tensor representation of the string.\n",
        "2. Model Loading - loading the model and the weights/biases of each layer into this notebooks to use.\n",
        "3. Predictions - Creating several functions to help with making prediction using the model, as well as gaining insights from the prediction's output.\n",
        "4. Results - Showing the results for the articles other other insights"
      ],
      "metadata": {
        "id": "GSVQxecZQwSI"
      }
    },
    {
      "cell_type": "code",
      "execution_count": 1,
      "metadata": {
        "colab": {
          "base_uri": "https://localhost:8080/"
        },
        "id": "D9qY-E3nqvBQ",
        "outputId": "5b33e596-a6f7-4e90-dcd2-6cbe12c78d7f"
      },
      "outputs": [
        {
          "output_type": "stream",
          "name": "stdout",
          "text": [
            "Requirement already satisfied: textblob in /usr/local/lib/python3.7/dist-packages (0.15.3)\n",
            "Requirement already satisfied: nltk>=3.1 in /usr/local/lib/python3.7/dist-packages (from textblob) (3.2.5)\n",
            "Requirement already satisfied: six in /usr/local/lib/python3.7/dist-packages (from nltk>=3.1->textblob) (1.15.0)\n",
            "Cloning into 'Inside-Deep-Learning'...\n",
            "remote: Enumerating objects: 34, done.\u001b[K\n",
            "remote: Counting objects: 100% (34/34), done.\u001b[K\n",
            "remote: Compressing objects: 100% (27/27), done.\u001b[K\n",
            "remote: Total 34 (delta 10), reused 28 (delta 7), pack-reused 0\u001b[K\n",
            "Unpacking objects: 100% (34/34), done.\n"
          ]
        }
      ],
      "source": [
        "!pip install textblob # used for quantifying polarity of the tweets in the dataset.\n",
        "\n",
        "\n",
        "import pandas as pd\n",
        "import os\n",
        "import re\n",
        "import numpy as np\n",
        "import matplotlib.pyplot as plt\n",
        "import seaborn as sns\n",
        "\n",
        "import torchtext\n",
        "import pickle\n",
        "\n",
        "\n",
        "!git clone https://github.com/EdwardRaff/Inside-Deep-Learning.git\n",
        "%run /content/Inside-Deep-Learning/idlmam.py\n",
        "\n",
        "#Preprocessing Functions\n",
        "from sklearn.utils import shuffle\n",
        "\n",
        "\n",
        "import torch\n",
        "import torch.nn as nn\n",
        "import torch.nn.functional as F\n",
        "from torch.utils.data import Dataset, DataLoader\n",
        "\n",
        "from wordcloud import WordCloud # EDA Tool\n",
        "from textblob import TextBlob\n",
        "\n",
        "from google.colab import files, drive"
      ]
    },
    {
      "cell_type": "code",
      "source": [
        "drive.mount('/content/gdrive')"
      ],
      "metadata": {
        "colab": {
          "base_uri": "https://localhost:8080/"
        },
        "id": "8WBSFhiozDaD",
        "outputId": "b8f4f9ea-32bc-44fb-fc01-b41997f9c24a"
      },
      "execution_count": 3,
      "outputs": [
        {
          "output_type": "stream",
          "name": "stdout",
          "text": [
            "Mounted at /content/gdrive\n"
          ]
        }
      ]
    },
    {
      "cell_type": "code",
      "source": [
        "open_path_cnn = \"/content/gdrive/MyDrive/DATA606/Data/df_cnn_0518.csv\"\n",
        "open_path_fn = \"/content/gdrive/MyDrive/DATA606/Data/df_foxnews_0518.csv\"\n",
        "open_path_15 = \"/content/gdrive/MyDrive/DATA606/Data/output_cleaned_15k.csv\"\n",
        "\n",
        "\n",
        "\n",
        "df_cnn = pd.read_csv(open_path_cnn)\n",
        "df_fn = pd.read_csv(open_path_fn)\n",
        "\n",
        "df_cnn['Site'] = 'Cnn'\n",
        "df_fn['Site'] = 'Fox'\n",
        "df_15 = pd.read_csv(open_path_15)\n",
        "\n",
        "\n",
        "df_cnn =df_cnn.drop(columns='Unnamed: 0')\n",
        "df_fn =df_fn.drop(columns='Unnamed: 0')\n",
        "df_15 = df_15[['index','text','emotions','class','pos_or_neg','lemma_string','sentiment','word_length']]"
      ],
      "metadata": {
        "id": "xmmMu3Lsq4Ck"
      },
      "execution_count": 4,
      "outputs": []
    },
    {
      "cell_type": "code",
      "source": [
        "df_cnn=df_cnn[['Title','lemma_string','Site']]\n",
        "df_fn=df_fn[['Title','lemma_string','Site']]\n",
        "\n",
        "df = pd.concat([df_cnn, df_fn], axis=0)\n",
        "df.reset_index(drop=True, inplace=True)"
      ],
      "metadata": {
        "id": "G8EGsPjCWWO7"
      },
      "execution_count": 5,
      "outputs": []
    },
    {
      "cell_type": "code",
      "source": [
        "# Cleaning out the extra spaces and punctuation\n",
        "\n",
        "df['cleaned'] = df['lemma_string'].apply(lambda x: re.sub(r'[^\\w\\s]', '', x))\n",
        "df['cleaned'] = df['cleaned'].apply(lambda x: re.sub(' +', ' ',x))"
      ],
      "metadata": {
        "id": "CqG9TSpr3UZc"
      },
      "execution_count": 6,
      "outputs": []
    },
    {
      "cell_type": "code",
      "source": [
        "# Create a vector from the entire cleaned string\n",
        "\n",
        "df['vector'] = df.cleaned.apply(lambda x: list(x.split(sep =\" \")))\n",
        "df['vector_length'] = df.vector.apply(lambda x: len(x))\n"
      ],
      "metadata": {
        "id": "B2AXyio14K0k"
      },
      "execution_count": 10,
      "outputs": []
    },
    {
      "cell_type": "code",
      "source": [
        "# Vocabulary Creation - News Sites\n",
        "\n",
        "t1 = time.perf_counter()\n",
        "\n",
        "combined = df.cleaned.str.cat()\n",
        "\n",
        "idx2word = {0:'PAD',1:'SOS',2:'EOS'}\n",
        "\n",
        "for word in combined.split():\n",
        "  if word not in idx2word.values():\n",
        "    idx2word[len(idx2word)] = word\n",
        "\n",
        "t2 = time.perf_counter()\n",
        "\n",
        "print(\"\\nTime to create vocabulary: %f seconds\" %(t2-t1))\n",
        "print(\"Length of Vocabulary: %d\" %(len(idx2word)))\n",
        "\n",
        "word2idx = {v:k for k,v in idx2word.items()}"
      ],
      "metadata": {
        "colab": {
          "base_uri": "https://localhost:8080/"
        },
        "id": "vCiruIJ03JLp",
        "outputId": "3fdf0cfd-51a9-4b26-8ee1-1d484e75964f"
      },
      "execution_count": 7,
      "outputs": [
        {
          "output_type": "stream",
          "name": "stdout",
          "text": [
            "\n",
            "Time to create vocabulary: 9.032337 seconds\n",
            "Length of Vocabulary: 15062\n"
          ]
        }
      ]
    },
    {
      "cell_type": "code",
      "source": [
        "# Vocabulary - 15K Dataset\n",
        "4\n",
        "combined_15 = df_15.lemma_string.str.cat(sep = \" \")\n",
        "\n",
        "t1 = time.perf_counter()\n",
        "\n",
        "idx2word_15 = {0:'PAD',1:'SOS',2:'EOS'}\n",
        "\n",
        "for word in combined_15.split():\n",
        "  if word not in idx2word_15.values():\n",
        "    idx2word_15[len(idx2word_15)] = word\n",
        "\n",
        "t2 = time.perf_counter()\n",
        "\n",
        "print(\"\\nTime to create vocabulary: %f seconds\" %(t2-t1))\n",
        "print(\"Length of Vocabulary: %d\" %(len(idx2word_15)))\n",
        "\n",
        "\n",
        "# Creating the inverse of the above dictionaries for the purpose of output formatting\n",
        "\n",
        "\n",
        "word2idx_15 = {v: k for k, v in idx2word_15.items()}"
      ],
      "metadata": {
        "colab": {
          "base_uri": "https://localhost:8080/"
        },
        "id": "IKYhHYr726Rx",
        "outputId": "c5f7dc13-959a-4fd6-fbab-feb5622deb42"
      },
      "execution_count": 8,
      "outputs": [
        {
          "output_type": "stream",
          "name": "stdout",
          "text": [
            "\n",
            "Time to create vocabulary: 57.235896 seconds\n",
            "Length of Vocabulary: 30000\n"
          ]
        }
      ]
    },
    {
      "cell_type": "code",
      "source": [
        "# MOST IMPORTANT PART - We need to create a brand new vocabulary, where the index for each vocabulary lines up\n",
        "\n",
        "\"\"\"\n",
        "We need to create a brand new vocabulary, with the same length as the \n",
        "input vocab (30,000) where only words in our new dataset exist\n",
        "\n",
        "\"\"\"\n",
        "\n",
        "newvocab = {i:0 for i in range(len(idx2word))}\n",
        "\n",
        "for key, value in word2idx_15.items():\n",
        "  for k1, v1 in word2idx.items():\n",
        "    if k1 == key:\n",
        "      newvocab[value] = k1\n",
        "\n",
        "newvocab[len(newvocab)] = df['vector'][0][-1]\n",
        "newvocab[len(newvocab)] = df['vector'][0][1]"
      ],
      "metadata": {
        "id": "CMEE8Fb7I8_w"
      },
      "execution_count": 11,
      "outputs": []
    },
    {
      "cell_type": "code",
      "source": [
        "# Getting the average length of articles in dataste\n",
        "\n",
        "dfa = df.loc[df.Site == \"Cnn\"]\n",
        "\n",
        "dfb = df.loc[df.Site == \"Fox\"]\n",
        "\n",
        "aa = len(dfa.vector_length)\n",
        "ab =sum(dfa.vector_length)\n",
        "avga = ab/aa\n",
        "\n",
        "bb = len(dfb.vector_length)\n",
        "bc =sum(dfb.vector_length)\n",
        "avgb = bc/bb\n",
        "\n",
        "b = len(df.vector_length)\n",
        "a = sum(df.vector_length)\n",
        "avg = a/b\n",
        "\n",
        "print(\"FULL \" + str(avg))\n",
        "print(\"CNN \" + str(avga))\n",
        "print(\"Fox \" + str(avgb))"
      ],
      "metadata": {
        "colab": {
          "base_uri": "https://localhost:8080/"
        },
        "id": "4ma6H-oG9FFP",
        "outputId": "cf77d7a3-7e91-4fdc-9e60-4320e93c48fc"
      },
      "execution_count": 12,
      "outputs": [
        {
          "output_type": "stream",
          "name": "stdout",
          "text": [
            "FULL 828.7834394904459\n",
            "CNN 876.6\n",
            "Fox 598.5555555555555\n"
          ]
        }
      ]
    },
    {
      "cell_type": "code",
      "source": [
        "# Create new 'Tensor\" column to be inputted into the model\n",
        "\n",
        "df['tensor'] = None\n",
        "\n",
        "# Finally, creating a mapper using the above vocabulary to assign values to each nonblank sentence.\n",
        "for position, vector in enumerate(df['vector']):\n",
        "\n",
        "  sentence_vector  = torch.zeros(int(df['vector_length'][position]), dtype=torch.long)\n",
        "\n",
        "\n",
        "  # Running through each individual vector - excluding first and last words because they contain blank spaces unable to be processed\n",
        "  for index, word in enumerate(vector[1:-1]): \n",
        "    #Assigning an index value for each word within the values\n",
        "    sentence_vector[index] = newvocab[word]\n",
        "  df['tensor'][position] = sentence_vector"
      ],
      "metadata": {
        "id": "cG8yM1hSkFkm",
        "colab": {
          "base_uri": "https://localhost:8080/"
        },
        "outputId": "42758a69-c2b5-4db1-e1f4-0ca89bb43ce4"
      },
      "execution_count": 13,
      "outputs": [
        {
          "output_type": "stream",
          "name": "stderr",
          "text": [
            "/usr/local/lib/python3.7/dist-packages/ipykernel_launcher.py:13: SettingWithCopyWarning: \n",
            "A value is trying to be set on a copy of a slice from a DataFrame\n",
            "\n",
            "See the caveats in the documentation: https://pandas.pydata.org/pandas-docs/stable/user_guide/indexing.html#returning-a-view-versus-a-copy\n",
            "  del sys.path[0]\n"
          ]
        }
      ]
    },
    {
      "cell_type": "code",
      "source": [
        "df.head()"
      ],
      "metadata": {
        "colab": {
          "base_uri": "https://localhost:8080/",
          "height": 250
        },
        "id": "-Ae8OA6yEVht",
        "outputId": "738d8696-9909-4eb8-d227-50b152bfcdd1"
      },
      "execution_count": 14,
      "outputs": [
        {
          "output_type": "execute_result",
          "data": {
            "text/plain": [
              "                                               Title  \\\n",
              "0  Opinion: It won't be long before extremists in...   \n",
              "1  Michael Osterholm: Covid-19 keeps firing 210-m...   \n",
              "2  Opinion: Katie Porter's example reveals a pivo...   \n",
              "3  Opinion: Why the baby formula shortage is so t...   \n",
              "4  Opinion: Trust in the Supreme Court is grievou...   \n",
              "\n",
              "                                        lemma_string Site  \\\n",
              "0  julian zelizer cnn political analyst professor...  Cnn   \n",
              "1  peter bergen cnn 's national security analyst ...  Cnn   \n",
              "2  ( cnn ) private meeting house democratic caucu...  Cnn   \n",
              "3  syra madad dhsc msc mcp infectious disease epi...  Cnn   \n",
              "4  barbara a. perry gerald l. baliles professor d...  Cnn   \n",
              "\n",
              "                                             cleaned  \\\n",
              "0  julian zelizer cnn political analyst professor...   \n",
              "1  peter bergen cnn s national security analyst v...   \n",
              "2   cnn private meeting house democratic caucus l...   \n",
              "3  syra madad dhsc msc mcp infectious disease epi...   \n",
              "4  barbara a perry gerald l baliles professor dir...   \n",
              "\n",
              "                                              vector  vector_length  \\\n",
              "0  [julian, zelizer, cnn, political, analyst, pro...            760   \n",
              "1  [peter, bergen, cnn, s, national, security, an...           1317   \n",
              "2  [, cnn, private, meeting, house, democratic, c...            449   \n",
              "3  [syra, madad, dhsc, msc, mcp, infectious, dise...            578   \n",
              "4  [barbara, a, perry, gerald, l, baliles, profes...            788   \n",
              "\n",
              "                                              tensor  \n",
              "0  [tensor(4), tensor(5), tensor(6), tensor(7), t...  \n",
              "1  [tensor(517), tensor(5), tensor(97), tensor(51...  \n",
              "2  [tensor(5), tensor(967), tensor(968), tensor(2...  \n",
              "3  [tensor(1124), tensor(1125), tensor(1126), ten...  \n",
              "4  [tensor(1314), tensor(1315), tensor(1316), ten...  "
            ],
            "text/html": [
              "\n",
              "  <div id=\"df-e53ef7ba-ad08-4362-a2dd-ce401ada46a0\">\n",
              "    <div class=\"colab-df-container\">\n",
              "      <div>\n",
              "<style scoped>\n",
              "    .dataframe tbody tr th:only-of-type {\n",
              "        vertical-align: middle;\n",
              "    }\n",
              "\n",
              "    .dataframe tbody tr th {\n",
              "        vertical-align: top;\n",
              "    }\n",
              "\n",
              "    .dataframe thead th {\n",
              "        text-align: right;\n",
              "    }\n",
              "</style>\n",
              "<table border=\"1\" class=\"dataframe\">\n",
              "  <thead>\n",
              "    <tr style=\"text-align: right;\">\n",
              "      <th></th>\n",
              "      <th>Title</th>\n",
              "      <th>lemma_string</th>\n",
              "      <th>Site</th>\n",
              "      <th>cleaned</th>\n",
              "      <th>vector</th>\n",
              "      <th>vector_length</th>\n",
              "      <th>tensor</th>\n",
              "    </tr>\n",
              "  </thead>\n",
              "  <tbody>\n",
              "    <tr>\n",
              "      <th>0</th>\n",
              "      <td>Opinion: It won't be long before extremists in...</td>\n",
              "      <td>julian zelizer cnn political analyst professor...</td>\n",
              "      <td>Cnn</td>\n",
              "      <td>julian zelizer cnn political analyst professor...</td>\n",
              "      <td>[julian, zelizer, cnn, political, analyst, pro...</td>\n",
              "      <td>760</td>\n",
              "      <td>[tensor(4), tensor(5), tensor(6), tensor(7), t...</td>\n",
              "    </tr>\n",
              "    <tr>\n",
              "      <th>1</th>\n",
              "      <td>Michael Osterholm: Covid-19 keeps firing 210-m...</td>\n",
              "      <td>peter bergen cnn 's national security analyst ...</td>\n",
              "      <td>Cnn</td>\n",
              "      <td>peter bergen cnn s national security analyst v...</td>\n",
              "      <td>[peter, bergen, cnn, s, national, security, an...</td>\n",
              "      <td>1317</td>\n",
              "      <td>[tensor(517), tensor(5), tensor(97), tensor(51...</td>\n",
              "    </tr>\n",
              "    <tr>\n",
              "      <th>2</th>\n",
              "      <td>Opinion: Katie Porter's example reveals a pivo...</td>\n",
              "      <td>( cnn ) private meeting house democratic caucu...</td>\n",
              "      <td>Cnn</td>\n",
              "      <td>cnn private meeting house democratic caucus l...</td>\n",
              "      <td>[, cnn, private, meeting, house, democratic, c...</td>\n",
              "      <td>449</td>\n",
              "      <td>[tensor(5), tensor(967), tensor(968), tensor(2...</td>\n",
              "    </tr>\n",
              "    <tr>\n",
              "      <th>3</th>\n",
              "      <td>Opinion: Why the baby formula shortage is so t...</td>\n",
              "      <td>syra madad dhsc msc mcp infectious disease epi...</td>\n",
              "      <td>Cnn</td>\n",
              "      <td>syra madad dhsc msc mcp infectious disease epi...</td>\n",
              "      <td>[syra, madad, dhsc, msc, mcp, infectious, dise...</td>\n",
              "      <td>578</td>\n",
              "      <td>[tensor(1124), tensor(1125), tensor(1126), ten...</td>\n",
              "    </tr>\n",
              "    <tr>\n",
              "      <th>4</th>\n",
              "      <td>Opinion: Trust in the Supreme Court is grievou...</td>\n",
              "      <td>barbara a. perry gerald l. baliles professor d...</td>\n",
              "      <td>Cnn</td>\n",
              "      <td>barbara a perry gerald l baliles professor dir...</td>\n",
              "      <td>[barbara, a, perry, gerald, l, baliles, profes...</td>\n",
              "      <td>788</td>\n",
              "      <td>[tensor(1314), tensor(1315), tensor(1316), ten...</td>\n",
              "    </tr>\n",
              "  </tbody>\n",
              "</table>\n",
              "</div>\n",
              "      <button class=\"colab-df-convert\" onclick=\"convertToInteractive('df-e53ef7ba-ad08-4362-a2dd-ce401ada46a0')\"\n",
              "              title=\"Convert this dataframe to an interactive table.\"\n",
              "              style=\"display:none;\">\n",
              "        \n",
              "  <svg xmlns=\"http://www.w3.org/2000/svg\" height=\"24px\"viewBox=\"0 0 24 24\"\n",
              "       width=\"24px\">\n",
              "    <path d=\"M0 0h24v24H0V0z\" fill=\"none\"/>\n",
              "    <path d=\"M18.56 5.44l.94 2.06.94-2.06 2.06-.94-2.06-.94-.94-2.06-.94 2.06-2.06.94zm-11 1L8.5 8.5l.94-2.06 2.06-.94-2.06-.94L8.5 2.5l-.94 2.06-2.06.94zm10 10l.94 2.06.94-2.06 2.06-.94-2.06-.94-.94-2.06-.94 2.06-2.06.94z\"/><path d=\"M17.41 7.96l-1.37-1.37c-.4-.4-.92-.59-1.43-.59-.52 0-1.04.2-1.43.59L10.3 9.45l-7.72 7.72c-.78.78-.78 2.05 0 2.83L4 21.41c.39.39.9.59 1.41.59.51 0 1.02-.2 1.41-.59l7.78-7.78 2.81-2.81c.8-.78.8-2.07 0-2.86zM5.41 20L4 18.59l7.72-7.72 1.47 1.35L5.41 20z\"/>\n",
              "  </svg>\n",
              "      </button>\n",
              "      \n",
              "  <style>\n",
              "    .colab-df-container {\n",
              "      display:flex;\n",
              "      flex-wrap:wrap;\n",
              "      gap: 12px;\n",
              "    }\n",
              "\n",
              "    .colab-df-convert {\n",
              "      background-color: #E8F0FE;\n",
              "      border: none;\n",
              "      border-radius: 50%;\n",
              "      cursor: pointer;\n",
              "      display: none;\n",
              "      fill: #1967D2;\n",
              "      height: 32px;\n",
              "      padding: 0 0 0 0;\n",
              "      width: 32px;\n",
              "    }\n",
              "\n",
              "    .colab-df-convert:hover {\n",
              "      background-color: #E2EBFA;\n",
              "      box-shadow: 0px 1px 2px rgba(60, 64, 67, 0.3), 0px 1px 3px 1px rgba(60, 64, 67, 0.15);\n",
              "      fill: #174EA6;\n",
              "    }\n",
              "\n",
              "    [theme=dark] .colab-df-convert {\n",
              "      background-color: #3B4455;\n",
              "      fill: #D2E3FC;\n",
              "    }\n",
              "\n",
              "    [theme=dark] .colab-df-convert:hover {\n",
              "      background-color: #434B5C;\n",
              "      box-shadow: 0px 1px 3px 1px rgba(0, 0, 0, 0.15);\n",
              "      filter: drop-shadow(0px 1px 2px rgba(0, 0, 0, 0.3));\n",
              "      fill: #FFFFFF;\n",
              "    }\n",
              "  </style>\n",
              "\n",
              "      <script>\n",
              "        const buttonEl =\n",
              "          document.querySelector('#df-e53ef7ba-ad08-4362-a2dd-ce401ada46a0 button.colab-df-convert');\n",
              "        buttonEl.style.display =\n",
              "          google.colab.kernel.accessAllowed ? 'block' : 'none';\n",
              "\n",
              "        async function convertToInteractive(key) {\n",
              "          const element = document.querySelector('#df-e53ef7ba-ad08-4362-a2dd-ce401ada46a0');\n",
              "          const dataTable =\n",
              "            await google.colab.kernel.invokeFunction('convertToInteractive',\n",
              "                                                     [key], {});\n",
              "          if (!dataTable) return;\n",
              "\n",
              "          const docLinkHtml = 'Like what you see? Visit the ' +\n",
              "            '<a target=\"_blank\" href=https://colab.research.google.com/notebooks/data_table.ipynb>data table notebook</a>'\n",
              "            + ' to learn more about interactive tables.';\n",
              "          element.innerHTML = '';\n",
              "          dataTable['output_type'] = 'display_data';\n",
              "          await google.colab.output.renderOutput(dataTable, element);\n",
              "          const docLink = document.createElement('div');\n",
              "          docLink.innerHTML = docLinkHtml;\n",
              "          element.appendChild(docLink);\n",
              "        }\n",
              "      </script>\n",
              "    </div>\n",
              "  </div>\n",
              "  "
            ]
          },
          "metadata": {},
          "execution_count": 14
        }
      ]
    },
    {
      "cell_type": "markdown",
      "source": [
        "## **Model Loading**"
      ],
      "metadata": {
        "id": "z6EvmsvKUQOI"
      }
    },
    {
      "cell_type": "code",
      "source": [
        "# Instantiating the rnn that will be used with the state dict in the next cell to make predictions\n",
        "\n",
        "D = 64 \n",
        "vocab_size = len(newvocab)\n",
        "hidden_nodes = 256 \n",
        "classes = 6\n",
        "\n",
        "lossfunc = nn.CrossEntropyLoss()\n",
        "\n",
        "model_best = nn.Sequential(\n",
        "    EmbeddingPackable(nn.Embedding(vocab_size, D)),\n",
        "    nn.RNN(D, hidden_nodes, batch_first = True),\n",
        "    LastTimeStep(),\n",
        "    nn.Linear(hidden_nodes, classes)\n",
        ")\n",
        "\n",
        "device = torch.device(\"cpu\")"
      ],
      "metadata": {
        "id": "Q-5UCPq_UvP1"
      },
      "execution_count": 28,
      "outputs": []
    },
    {
      "cell_type": "code",
      "source": [
        "# Loading the best model created in the previous notebook it's state dictionary from after training.\n",
        "\n",
        "statedictpath = r\"/content/gdrive/My Drive/DATA606/BasicModels/BestModel/model_best.pt\"\n",
        "\n",
        "loader = torch.load(statedictpath)\n",
        "\n",
        "loader2 = loader['model_state_dict']\n",
        "\n",
        "model_best.load_state_dict(loader2)"
      ],
      "metadata": {
        "id": "I28kpZD8UStK",
        "colab": {
          "base_uri": "https://localhost:8080/"
        },
        "outputId": "ca51f956-4de5-4628-df10-07a53bb8f216"
      },
      "execution_count": 29,
      "outputs": [
        {
          "output_type": "execute_result",
          "data": {
            "text/plain": [
              "<All keys matched successfully>"
            ]
          },
          "metadata": {},
          "execution_count": 29
        }
      ]
    },
    {
      "cell_type": "code",
      "source": [
        "model_best.state_dict"
      ],
      "metadata": {
        "colab": {
          "base_uri": "https://localhost:8080/"
        },
        "id": "pfROQ9Ng4vJL",
        "outputId": "0c133f0e-4168-43fe-aeef-704326946e38"
      },
      "execution_count": 30,
      "outputs": [
        {
          "output_type": "execute_result",
          "data": {
            "text/plain": [
              "<bound method Module.state_dict of Sequential(\n",
              "  (0): EmbeddingPackable(\n",
              "    (embd_layer): Embedding(30000, 64)\n",
              "  )\n",
              "  (1): RNN(64, 256, batch_first=True)\n",
              "  (2): LastTimeStep()\n",
              "  (3): Linear(in_features=256, out_features=6, bias=True)\n",
              ")>"
            ]
          },
          "metadata": {},
          "execution_count": 30
        }
      ]
    },
    {
      "cell_type": "markdown",
      "source": [
        "## **Testing and Predicting**\n",
        "\n",
        "Now that our trained model is loaded, all we have to do is predict on each sample.\n"
      ],
      "metadata": {
        "id": "3VrWcOjeVhTg"
      }
    },
    {
      "cell_type": "code",
      "source": [
        "# Emotion Dataset\n",
        "\n",
        "\"\"\"\n",
        "-----------------------\n",
        "Now that we have a completely new dictionary, we can bring in our emotion dataset, \n",
        "which is only really be used to get the predictions and associated labels of the incoming tensors since\n",
        "we have already trained our data using this dataset \n",
        "-----------------------\n",
        "\"\"\"\n",
        "\n",
        "\n",
        "class EmotionDataset(Dataset):\n",
        "  \n",
        "  def __init__(self, dictionary, vocabulary):\n",
        "    self.label_names = [name for name in dictionary.keys()]\n",
        "    self.data = []\n",
        "    self.labels = []\n",
        "    self.vocabulary = vocabulary\n",
        "    self.dictionary = dictionary\n",
        "    self.max = 0\n",
        "\n",
        "    \"\"\"\n",
        "    Iterate through the dataset's dictionary and extract both the tweet and its corresponding label.\n",
        "    \"\"\"\n",
        "\n",
        "    for idx, emotion in enumerate(self.label_names):\n",
        "      for sentence in dictionary[emotion]:\n",
        "        self.data.append(sentence)\n",
        "        self.labels.append(idx)\n",
        "\n",
        "  def __len__(self):\n",
        "    return len(self.data)\n",
        "    \"\"\"\n",
        "    return the length of the datset.\n",
        "    \"\"\"\n",
        "\n",
        "\n",
        "  def list2InputVec(self, input_list):\n",
        "    \"\"\"\n",
        "    This method is going to take an input list (a.k.a the individual words within the sentence)\n",
        "    and return a pytorch vector of long integers, where each integer represents the index within the assigned\n",
        "    vocabulary. \n",
        "    \"\"\"\n",
        "\n",
        "    T = len(str(input_list).split(sep = \" \"))\n",
        "\n",
        "    sentence_vect = torch.zeros((T), dtype=torch.long) \n",
        "\n",
        "    for position, vector in enumerate(str(input_list).split(sep=\" \")):\n",
        "      sentence_vect[position] = word2idx[vector]\n",
        "\n",
        "    return sentence_vect\n",
        "\n",
        "  def __getitem__(self, index):\n",
        "    name = self.data[index]\n",
        "    label = self.labels[index]\n",
        "    \n",
        "    label_vector = torch.tensor([label], dtype = torch.long)                                \n",
        "\n",
        "    return self.list2InputVec(name), label"
      ],
      "metadata": {
        "id": "nHmqRfBF9I1n"
      },
      "execution_count": 19,
      "outputs": []
    },
    {
      "cell_type": "code",
      "source": [
        "# 15K Downsampled Dataset Dictionary - to be used for dataset creation\n",
        "\n",
        "t1 = time.perf_counter()\n",
        "\n",
        "tweet_dict_15 = {key: value[\"lemma_string\"].tolist() for key, value in df_15.groupby(\"emotions\")}\n",
        "\n",
        "t2 = time.perf_counter()\n",
        "\n",
        "print(\"\\nTime to create tweet dictionary: \"+ str(t2-t1) +\" seconds\")\n",
        "print(\"Dictionary length (number of unique emotions): \" + str(len(tweet_dict_15)))\n",
        "print(\"Number of items per emotion:\")\n",
        "for key, value in tweet_dict_15.items():\n",
        "  print(key, len([item for item in value if item]))"
      ],
      "metadata": {
        "colab": {
          "base_uri": "https://localhost:8080/"
        },
        "id": "wirs_0T026Ve",
        "outputId": "ac837e04-da05-486c-914d-9380973077d6"
      },
      "execution_count": 20,
      "outputs": [
        {
          "output_type": "stream",
          "name": "stdout",
          "text": [
            "\n",
            "Time to create tweet dictionary: 0.03209620400002677 seconds\n",
            "Dictionary length (number of unique emotions): 6\n",
            "Number of items per emotion:\n",
            "anger 15000\n",
            "fear 15000\n",
            "joy 15000\n",
            "love 15000\n",
            "sadness 15000\n",
            "surprise 14972\n"
          ]
        }
      ]
    },
    {
      "cell_type": "code",
      "source": [
        "# Creating new dataset object for the labels using the new vocabulary\n",
        "\n",
        "emo_dataset_15 = EmotionDataset(dictionary=tweet_dict_15, vocabulary = newvocab)"
      ],
      "metadata": {
        "id": "89ERqHdk9Iz-"
      },
      "execution_count": 31,
      "outputs": []
    },
    {
      "cell_type": "code",
      "source": [
        "# Creating a helper dictionary to transform the emotions into numbers (and vice versa)\n",
        "\n",
        "emotion = [\"Fear\", \"Anger\", \"Sadness\",\"Joy\",\"Love\",\"Surprise\"]\n",
        "\n",
        "num_to_emotion = {i:emotion[i] for i in range(len(emotion))}\n",
        "emotion_to_letter = {emotion[i]:i for i in range(len(emotion))}\n",
        "\n",
        "print(emotion_to_letter)"
      ],
      "metadata": {
        "colab": {
          "base_uri": "https://localhost:8080/"
        },
        "id": "VM-us82sfnkp",
        "outputId": "1144b19b-c696-4ebd-9465-858a363778dd"
      },
      "execution_count": 43,
      "outputs": [
        {
          "output_type": "stream",
          "name": "stdout",
          "text": [
            "{'Fear': 0, 'Anger': 1, 'Sadness': 2, 'Joy': 3, 'Love': 4, 'Surprise': 5}\n"
          ]
        }
      ]
    },
    {
      "cell_type": "code",
      "source": [
        "# Creating a function to predict each individual article - with help from Inside Deep Learning by Edward Raff\n",
        "\n",
        "def predict(location, model):\n",
        "  with torch.no_grad():\n",
        "    # Getting the input of the softmax output and reshaping it to our required value\n",
        "    preds = F.softmax(model(location.reshape(1,-1)), dim = -1)\n",
        "    # Transform tensor to list\n",
        "    preds_list = preds.tolist()\n",
        "    \n",
        "    #Taking the \n",
        "    winner = preds_list[0].index(max(preds_list[0]))\n",
        "    #Transforming index to a number\n",
        "    winner_emotion = num_to_emotion[winner]\n",
        "\n",
        "    return winner_emotion"
      ],
      "metadata": {
        "id": "THHFsZb-NQDh"
      },
      "execution_count": 33,
      "outputs": []
    },
    {
      "cell_type": "code",
      "source": [
        "# Creating a new prediction column with the above function\n",
        "df['prediction'] = df.tensor.apply(lambda x: predict(x, model_best))\n",
        "\n",
        "# Adding new column for the Texblob polarity values\n",
        "df['sentiment'] = df['cleaned'].apply(lambda x: TextBlob(x).sentiment.polarity)"
      ],
      "metadata": {
        "id": "i3JJoqsMNQA5"
      },
      "execution_count": 35,
      "outputs": []
    },
    {
      "cell_type": "code",
      "source": [
        "# CNN Output\n",
        "\n",
        "df_sub = df.loc[df['Site'] == 'Cnn']\n",
        "\n",
        "cnn_results = df_sub['prediction']\n",
        "\n",
        "plt.figure(figsize=(11,8))\n",
        "plt.title(\"CNN Predictions\")\n",
        "sns.countplot(x=cnn_results, palette = {'Fear':'red','Anger':'green',\"Sadness\": \"blue\",\"Joy\":'orange',\"Love\":\"brown\",\"Surprise\":'purple'})\n",
        "plt.show()"
      ],
      "metadata": {
        "id": "-LzDXQC1cN03",
        "colab": {
          "base_uri": "https://localhost:8080/",
          "height": 513
        },
        "outputId": "34878d1c-c6ff-477c-dcda-c2f422a5d58b"
      },
      "execution_count": 98,
      "outputs": [
        {
          "output_type": "display_data",
          "data": {
            "text/plain": [
              "<Figure size 792x576 with 1 Axes>"
            ],
            "image/png": "[encoded data removed]"
          },
          "metadata": {
            "needs_background": "light"
          }
        }
      ]
    },
    {
      "cell_type": "code",
      "source": [
        "# Fox News Output\n",
        "df_sub = df.loc[df['Site'] == 'Fox'] \n",
        "fn_results = df_sub['prediction']\n",
        "\n",
        "plt.figure(figsize=(11,8)))\n",
        "plt.title(\"Fox News Predictions\")\n",
        "sns.countplot(x=fn_results, palette = {'Fear':'red','Anger':'green',\"Sadness\": \"blue\",\"Joy\":'orange',\"Love\":\"brown\",\"Surprise\":'purple'})\n",
        "plt.show()"
      ],
      "metadata": {
        "id": "uiWFiARDkAsv",
        "colab": {
          "base_uri": "https://localhost:8080/",
          "height": 676
        },
        "outputId": "c83deb5a-af7e-4a9a-82b5-ccb3fa6f458c"
      },
      "execution_count": 94,
      "outputs": [
        {
          "output_type": "display_data",
          "data": {
            "text/plain": [
              "<Figure size 792x792 with 1 Axes>"
            ],
            "image/png": "[encoded data removed]"
          },
          "metadata": {
            "needs_background": "light"
          }
        }
      ]
    },
    {
      "cell_type": "code",
      "source": [
        "# Full Dataset Output\n",
        "\n",
        "full_results = df.prediction\n",
        "\n",
        "plt.figure(figsize=(11,8))\n",
        "plt.title(\"Full Dataset Predictions\")\n",
        "sns.countplot(x=full_results, palette = {'Fear':'red','Anger':'green',\"Sadness\": \"blue\",\"Joy\":'orange',\"Love\":\"brown\",\"Surprise\":'purple'})\n",
        "\n",
        "plt.show()"
      ],
      "metadata": {
        "colab": {
          "base_uri": "https://localhost:8080/",
          "height": 513
        },
        "id": "XycyG2BerFao",
        "outputId": "3146abc8-76eb-43e3-a6a1-431f0f0ff38b"
      },
      "execution_count": 99,
      "outputs": [
        {
          "output_type": "display_data",
          "data": {
            "text/plain": [
              "<Figure size 792x576 with 1 Axes>"
            ],
            "image/png": "[encoded data removed]"
          },
          "metadata": {
            "needs_background": "light"
          }
        }
      ]
    },
    {
      "cell_type": "code",
      "source": [
        "plt.figure(figsize=(12,9))\n",
        "plt.title(\"Polarity Histogram\")\n",
        "sns.histplot(df.sentiment, bins = 25)\n",
        "plt.show()"
      ],
      "metadata": {
        "colab": {
          "base_uri": "https://localhost:8080/",
          "height": 567
        },
        "id": "Ukf86L2LEmza",
        "outputId": "062c96b7-5767-470f-c4a2-d84a22fa2adc"
      },
      "execution_count": 100,
      "outputs": [
        {
          "output_type": "display_data",
          "data": {
            "text/plain": [
              "<Figure size 864x648 with 1 Axes>"
            ],
            "image/png": "[encoded data removed]"
          },
          "metadata": {
            "needs_background": "light"
          }
        }
      ]
    },
    {
      "cell_type": "markdown",
      "source": [
        "## Emotion Index\n",
        "\n",
        " I also wanted to test the level of fear predicted even when it wasn't the highest-predicted emotion. For this I created the emotion index, which shows the distribution of the Softmax probabilities associated with fear or another associated emotion for every single prediction to see their relative strength."
      ],
      "metadata": {
        "id": "_QV1W9ilb-Uh"
      }
    },
    {
      "cell_type": "code",
      "source": [
        "def fear_prediction(location, model):\n",
        "  \"\"\"\n",
        "  Returns the softmax probability of the 'fear' label.\n",
        "  \"\"\"\n",
        "  preds = F.softmax(model(location.reshape(1,-1)), dim = -1)\n",
        "  preds_list = preds.tolist()\n",
        "\n",
        "  for index in range(len(emo_dataset_15.label_names)):\n",
        "    if emo_dataset_15.label_names[index] == \"fear\":\n",
        "      fear_idx = preds[0,index].item()\n",
        "    else:\n",
        "      continue\n",
        "\n",
        "  return fear_idx\n",
        "\n",
        "\n",
        "def anger_prediction(location, model):\n",
        "    preds = F.softmax(model(location.reshape(1,-1)), dim = -1)\n",
        "    preds_list = preds.tolist()\n",
        "\n",
        "    for index in range(len(emo_dataset_15.label_names)):\n",
        "      if emo_dataset_15.label_names[index] == \"anger\":\n",
        "        anger_idx = preds[0,index].item()\n",
        "      else:\n",
        "        continue\n",
        "\n",
        "    return anger_idx\n",
        "\n",
        "\n",
        "def sadness_prediction(location, model):\n",
        "    preds = F.softmax(model(location.reshape(1,-1)), dim = -1)\n",
        "    preds_list = preds.tolist()\n",
        "\n",
        "    for index in range(len(emo_dataset_15.label_names)):\n",
        "      if emo_dataset_15.label_names[index] == \"sadness\":\n",
        "        sadness_idx = preds[0,index].item()\n",
        "      else:\n",
        "        continue\n",
        "\n",
        "    return sadness_idx\n",
        "\n",
        "\n",
        "def joy_prediction(location, model):\n",
        "    preds = F.softmax(model(location.reshape(1,-1)), dim = -1)\n",
        "    preds_list = preds.tolist()\n",
        "\n",
        "    for index in range(len(emo_dataset_15.label_names)):\n",
        "      if emo_dataset_15.label_names[index] == \"joy\":\n",
        "        joy_idx = preds[0,index].item()\n",
        "      else:\n",
        "        continue\n",
        "\n",
        "    return joy_idx\n",
        "\n",
        "\n",
        "def love_prediction(location, model):\n",
        "    preds = F.softmax(model(location.reshape(1,-1)), dim = -1)\n",
        "    preds_list = preds.tolist()\n",
        "\n",
        "    for index in range(len(emo_dataset_15.label_names)):\n",
        "      if emo_dataset_15.label_names[index] == \"love\":\n",
        "        love_idx = preds[0,index].item()\n",
        "      else:\n",
        "        continue\n",
        "\n",
        "    return love_idx\n",
        "\n",
        "\n",
        "def surprise_prediction(location, model):\n",
        "    preds = F.softmax(model(location.reshape(1,-1)), dim = -1)\n",
        "    preds_list = preds.tolist()\n",
        "\n",
        "    for index in range(len(emo_dataset_15.label_names)):\n",
        "      if emo_dataset_15.label_names[index] == \"surprise\":\n",
        "        surprise_idx = preds[0,index].item()\n",
        "      else:\n",
        "        continue\n",
        "\n",
        "    return surprise_idx"
      ],
      "metadata": {
        "id": "DfyArytQb_Xi"
      },
      "execution_count": 79,
      "outputs": []
    },
    {
      "cell_type": "code",
      "source": [
        "df['fear_prediction'] = df.tensor.apply(lambda x: fear_prediction(x, model_best))\n",
        "df['anger_prediction'] = df.tensor.apply(lambda x: anger_prediction(x, model_best))\n",
        "df['sadness_prediction'] = df.tensor.apply(lambda x: sadness_prediction(x, model_best))\n",
        "df['joy_prediction'] = df.tensor.apply(lambda x: joy_prediction(x, model_best))\n",
        "df['love_prediction'] = df.tensor.apply(lambda x: love_prediction(x, model_best))\n",
        "df['surprise_prediction'] = df.tensor.apply(lambda x: surprise_prediction(x, model_best))"
      ],
      "metadata": {
        "id": "sXObakx-cOeQ"
      },
      "execution_count": 80,
      "outputs": []
    },
    {
      "cell_type": "code",
      "source": [
        "df.head()"
      ],
      "metadata": {
        "colab": {
          "base_uri": "https://localhost:8080/",
          "height": 528
        },
        "id": "GBJ0fTIDfndz",
        "outputId": "a3e0c904-a367-4dfe-e096-0f4d89649587"
      },
      "execution_count": 81,
      "outputs": [
        {
          "output_type": "execute_result",
          "data": {
            "text/plain": [
              "                                               Title  \\\n",
              "0  Opinion: It won't be long before extremists in...   \n",
              "1  Michael Osterholm: Covid-19 keeps firing 210-m...   \n",
              "2  Opinion: Katie Porter's example reveals a pivo...   \n",
              "3  Opinion: Why the baby formula shortage is so t...   \n",
              "4  Opinion: Trust in the Supreme Court is grievou...   \n",
              "\n",
              "                                        lemma_string Site  \\\n",
              "0  julian zelizer cnn political analyst professor...  Cnn   \n",
              "1  peter bergen cnn 's national security analyst ...  Cnn   \n",
              "2  ( cnn ) private meeting house democratic caucu...  Cnn   \n",
              "3  syra madad dhsc msc mcp infectious disease epi...  Cnn   \n",
              "4  barbara a. perry gerald l. baliles professor d...  Cnn   \n",
              "\n",
              "                                             cleaned  \\\n",
              "0  julian zelizer cnn political analyst professor...   \n",
              "1  peter bergen cnn s national security analyst v...   \n",
              "2   cnn private meeting house democratic caucus l...   \n",
              "3  syra madad dhsc msc mcp infectious disease epi...   \n",
              "4  barbara a perry gerald l baliles professor dir...   \n",
              "\n",
              "                                              vector  vector_length  \\\n",
              "0  [julian, zelizer, cnn, political, analyst, pro...            760   \n",
              "1  [peter, bergen, cnn, s, national, security, an...           1317   \n",
              "2  [, cnn, private, meeting, house, democratic, c...            449   \n",
              "3  [syra, madad, dhsc, msc, mcp, infectious, dise...            578   \n",
              "4  [barbara, a, perry, gerald, l, baliles, profes...            788   \n",
              "\n",
              "                                              tensor prediction  sentiment  \\\n",
              "0  [tensor(4), tensor(5), tensor(6), tensor(7), t...      Anger   0.095127   \n",
              "1  [tensor(517), tensor(5), tensor(97), tensor(51...        Joy   0.077829   \n",
              "2  [tensor(5), tensor(967), tensor(968), tensor(2...       Fear   0.060120   \n",
              "3  [tensor(1124), tensor(1125), tensor(1126), ten...       Fear   0.108765   \n",
              "4  [tensor(1314), tensor(1315), tensor(1316), ten...    Sadness   0.050644   \n",
              "\n",
              "   fear_prediction  anger_prediction  sadness_prediction  joy_prediction  \\\n",
              "0         0.252767          0.128746            0.149435        0.226455   \n",
              "1         0.114747          0.141839            0.140753        0.180121   \n",
              "2         0.232897          0.350843            0.168595        0.102725   \n",
              "3         0.217251          0.338996            0.255648        0.066880   \n",
              "4         0.122494          0.117908            0.209317        0.227397   \n",
              "\n",
              "   love_prediction  surprise_prediction  \n",
              "0         0.211768             0.030828  \n",
              "1         0.320331             0.102208  \n",
              "2         0.135734             0.009206  \n",
              "3         0.076412             0.044814  \n",
              "4         0.176010             0.146875  "
            ],
            "text/html": [
              "\n",
              "  <div id=\"df-2b182047-4554-4809-a432-3fad4ea02cf9\">\n",
              "    <div class=\"colab-df-container\">\n",
              "      <div>\n",
              "<style scoped>\n",
              "    .dataframe tbody tr th:only-of-type {\n",
              "        vertical-align: middle;\n",
              "    }\n",
              "\n",
              "    .dataframe tbody tr th {\n",
              "        vertical-align: top;\n",
              "    }\n",
              "\n",
              "    .dataframe thead th {\n",
              "        text-align: right;\n",
              "    }\n",
              "</style>\n",
              "<table border=\"1\" class=\"dataframe\">\n",
              "  <thead>\n",
              "    <tr style=\"text-align: right;\">\n",
              "      <th></th>\n",
              "      <th>Title</th>\n",
              "      <th>lemma_string</th>\n",
              "      <th>Site</th>\n",
              "      <th>cleaned</th>\n",
              "      <th>vector</th>\n",
              "      <th>vector_length</th>\n",
              "      <th>tensor</th>\n",
              "      <th>prediction</th>\n",
              "      <th>sentiment</th>\n",
              "      <th>fear_prediction</th>\n",
              "      <th>anger_prediction</th>\n",
              "      <th>sadness_prediction</th>\n",
              "      <th>joy_prediction</th>\n",
              "      <th>love_prediction</th>\n",
              "      <th>surprise_prediction</th>\n",
              "    </tr>\n",
              "  </thead>\n",
              "  <tbody>\n",
              "    <tr>\n",
              "      <th>0</th>\n",
              "      <td>Opinion: It won't be long before extremists in...</td>\n",
              "      <td>julian zelizer cnn political analyst professor...</td>\n",
              "      <td>Cnn</td>\n",
              "      <td>julian zelizer cnn political analyst professor...</td>\n",
              "      <td>[julian, zelizer, cnn, political, analyst, pro...</td>\n",
              "      <td>760</td>\n",
              "      <td>[tensor(4), tensor(5), tensor(6), tensor(7), t...</td>\n",
              "      <td>Anger</td>\n",
              "      <td>0.095127</td>\n",
              "      <td>0.252767</td>\n",
              "      <td>0.128746</td>\n",
              "      <td>0.149435</td>\n",
              "      <td>0.226455</td>\n",
              "      <td>0.211768</td>\n",
              "      <td>0.030828</td>\n",
              "    </tr>\n",
              "    <tr>\n",
              "      <th>1</th>\n",
              "      <td>Michael Osterholm: Covid-19 keeps firing 210-m...</td>\n",
              "      <td>peter bergen cnn 's national security analyst ...</td>\n",
              "      <td>Cnn</td>\n",
              "      <td>peter bergen cnn s national security analyst v...</td>\n",
              "      <td>[peter, bergen, cnn, s, national, security, an...</td>\n",
              "      <td>1317</td>\n",
              "      <td>[tensor(517), tensor(5), tensor(97), tensor(51...</td>\n",
              "      <td>Joy</td>\n",
              "      <td>0.077829</td>\n",
              "      <td>0.114747</td>\n",
              "      <td>0.141839</td>\n",
              "      <td>0.140753</td>\n",
              "      <td>0.180121</td>\n",
              "      <td>0.320331</td>\n",
              "      <td>0.102208</td>\n",
              "    </tr>\n",
              "    <tr>\n",
              "      <th>2</th>\n",
              "      <td>Opinion: Katie Porter's example reveals a pivo...</td>\n",
              "      <td>( cnn ) private meeting house democratic caucu...</td>\n",
              "      <td>Cnn</td>\n",
              "      <td>cnn private meeting house democratic caucus l...</td>\n",
              "      <td>[, cnn, private, meeting, house, democratic, c...</td>\n",
              "      <td>449</td>\n",
              "      <td>[tensor(5), tensor(967), tensor(968), tensor(2...</td>\n",
              "      <td>Fear</td>\n",
              "      <td>0.060120</td>\n",
              "      <td>0.232897</td>\n",
              "      <td>0.350843</td>\n",
              "      <td>0.168595</td>\n",
              "      <td>0.102725</td>\n",
              "      <td>0.135734</td>\n",
              "      <td>0.009206</td>\n",
              "    </tr>\n",
              "    <tr>\n",
              "      <th>3</th>\n",
              "      <td>Opinion: Why the baby formula shortage is so t...</td>\n",
              "      <td>syra madad dhsc msc mcp infectious disease epi...</td>\n",
              "      <td>Cnn</td>\n",
              "      <td>syra madad dhsc msc mcp infectious disease epi...</td>\n",
              "      <td>[syra, madad, dhsc, msc, mcp, infectious, dise...</td>\n",
              "      <td>578</td>\n",
              "      <td>[tensor(1124), tensor(1125), tensor(1126), ten...</td>\n",
              "      <td>Fear</td>\n",
              "      <td>0.108765</td>\n",
              "      <td>0.217251</td>\n",
              "      <td>0.338996</td>\n",
              "      <td>0.255648</td>\n",
              "      <td>0.066880</td>\n",
              "      <td>0.076412</td>\n",
              "      <td>0.044814</td>\n",
              "    </tr>\n",
              "    <tr>\n",
              "      <th>4</th>\n",
              "      <td>Opinion: Trust in the Supreme Court is grievou...</td>\n",
              "      <td>barbara a. perry gerald l. baliles professor d...</td>\n",
              "      <td>Cnn</td>\n",
              "      <td>barbara a perry gerald l baliles professor dir...</td>\n",
              "      <td>[barbara, a, perry, gerald, l, baliles, profes...</td>\n",
              "      <td>788</td>\n",
              "      <td>[tensor(1314), tensor(1315), tensor(1316), ten...</td>\n",
              "      <td>Sadness</td>\n",
              "      <td>0.050644</td>\n",
              "      <td>0.122494</td>\n",
              "      <td>0.117908</td>\n",
              "      <td>0.209317</td>\n",
              "      <td>0.227397</td>\n",
              "      <td>0.176010</td>\n",
              "      <td>0.146875</td>\n",
              "    </tr>\n",
              "  </tbody>\n",
              "</table>\n",
              "</div>\n",
              "      <button class=\"colab-df-convert\" onclick=\"convertToInteractive('df-2b182047-4554-4809-a432-3fad4ea02cf9')\"\n",
              "              title=\"Convert this dataframe to an interactive table.\"\n",
              "              style=\"display:none;\">\n",
              "        \n",
              "  <svg xmlns=\"http://www.w3.org/2000/svg\" height=\"24px\"viewBox=\"0 0 24 24\"\n",
              "       width=\"24px\">\n",
              "    <path d=\"M0 0h24v24H0V0z\" fill=\"none\"/>\n",
              "    <path d=\"M18.56 5.44l.94 2.06.94-2.06 2.06-.94-2.06-.94-.94-2.06-.94 2.06-2.06.94zm-11 1L8.5 8.5l.94-2.06 2.06-.94-2.06-.94L8.5 2.5l-.94 2.06-2.06.94zm10 10l.94 2.06.94-2.06 2.06-.94-2.06-.94-.94-2.06-.94 2.06-2.06.94z\"/><path d=\"M17.41 7.96l-1.37-1.37c-.4-.4-.92-.59-1.43-.59-.52 0-1.04.2-1.43.59L10.3 9.45l-7.72 7.72c-.78.78-.78 2.05 0 2.83L4 21.41c.39.39.9.59 1.41.59.51 0 1.02-.2 1.41-.59l7.78-7.78 2.81-2.81c.8-.78.8-2.07 0-2.86zM5.41 20L4 18.59l7.72-7.72 1.47 1.35L5.41 20z\"/>\n",
              "  </svg>\n",
              "      </button>\n",
              "      \n",
              "  <style>\n",
              "    .colab-df-container {\n",
              "      display:flex;\n",
              "      flex-wrap:wrap;\n",
              "      gap: 12px;\n",
              "    }\n",
              "\n",
              "    .colab-df-convert {\n",
              "      background-color: #E8F0FE;\n",
              "      border: none;\n",
              "      border-radius: 50%;\n",
              "      cursor: pointer;\n",
              "      display: none;\n",
              "      fill: #1967D2;\n",
              "      height: 32px;\n",
              "      padding: 0 0 0 0;\n",
              "      width: 32px;\n",
              "    }\n",
              "\n",
              "    .colab-df-convert:hover {\n",
              "      background-color: #E2EBFA;\n",
              "      box-shadow: 0px 1px 2px rgba(60, 64, 67, 0.3), 0px 1px 3px 1px rgba(60, 64, 67, 0.15);\n",
              "      fill: #174EA6;\n",
              "    }\n",
              "\n",
              "    [theme=dark] .colab-df-convert {\n",
              "      background-color: #3B4455;\n",
              "      fill: #D2E3FC;\n",
              "    }\n",
              "\n",
              "    [theme=dark] .colab-df-convert:hover {\n",
              "      background-color: #434B5C;\n",
              "      box-shadow: 0px 1px 3px 1px rgba(0, 0, 0, 0.15);\n",
              "      filter: drop-shadow(0px 1px 2px rgba(0, 0, 0, 0.3));\n",
              "      fill: #FFFFFF;\n",
              "    }\n",
              "  </style>\n",
              "\n",
              "      <script>\n",
              "        const buttonEl =\n",
              "          document.querySelector('#df-2b182047-4554-4809-a432-3fad4ea02cf9 button.colab-df-convert');\n",
              "        buttonEl.style.display =\n",
              "          google.colab.kernel.accessAllowed ? 'block' : 'none';\n",
              "\n",
              "        async function convertToInteractive(key) {\n",
              "          const element = document.querySelector('#df-2b182047-4554-4809-a432-3fad4ea02cf9');\n",
              "          const dataTable =\n",
              "            await google.colab.kernel.invokeFunction('convertToInteractive',\n",
              "                                                     [key], {});\n",
              "          if (!dataTable) return;\n",
              "\n",
              "          const docLinkHtml = 'Like what you see? Visit the ' +\n",
              "            '<a target=\"_blank\" href=https://colab.research.google.com/notebooks/data_table.ipynb>data table notebook</a>'\n",
              "            + ' to learn more about interactive tables.';\n",
              "          element.innerHTML = '';\n",
              "          dataTable['output_type'] = 'display_data';\n",
              "          await google.colab.output.renderOutput(dataTable, element);\n",
              "          const docLink = document.createElement('div');\n",
              "          docLink.innerHTML = docLinkHtml;\n",
              "          element.appendChild(docLink);\n",
              "        }\n",
              "      </script>\n",
              "    </div>\n",
              "  </div>\n",
              "  "
            ]
          },
          "metadata": {},
          "execution_count": 81
        }
      ]
    },
    {
      "cell_type": "code",
      "source": [
        "plt.figure(figsize = (10,8))\n",
        "plt.title(\"Fear Index\")\n",
        "sns.histplot(data=df, x=df.fear_prediction, color=\"red\", label=\"Fear Prediction\", kde=False)\n",
        "plt.show()"
      ],
      "metadata": {
        "colab": {
          "base_uri": "https://localhost:8080/",
          "height": 514
        },
        "id": "yxKwqja_fpag",
        "outputId": "f6050429-ab17-482f-f82a-5dc5360cac6b"
      },
      "execution_count": 84,
      "outputs": [
        {
          "output_type": "display_data",
          "data": {
            "text/plain": [
              "<Figure size 720x576 with 1 Axes>"
            ],
            "image/png": "[encoded data removed]"
          },
          "metadata": {
            "needs_background": "light"
          }
        }
      ]
    },
    {
      "cell_type": "code",
      "source": [
        "plt.figure(figsize = (10,8))\n",
        "plt.title(\"Anger Index\")\n",
        "sns.histplot(data=df, x=df.anger_prediction, color=\"red\", label=\"Anger Prediction\", kde=False)\n",
        "plt.show()"
      ],
      "metadata": {
        "colab": {
          "base_uri": "https://localhost:8080/",
          "height": 514
        },
        "id": "PeJOGCQlf_gu",
        "outputId": "72191740-e308-4a0a-e925-3149a5b8748c"
      },
      "execution_count": 85,
      "outputs": [
        {
          "output_type": "display_data",
          "data": {
            "text/plain": [
              "<Figure size 720x576 with 1 Axes>"
            ],
            "image/png": "[encoded data removed]"
          },
          "metadata": {
            "needs_background": "light"
          }
        }
      ]
    },
    {
      "cell_type": "code",
      "source": [
        "plt.figure(figsize = (10,8))\n",
        "plt.title(\"Anger Index\")\n",
        "sns.histplot(data=df, x=df.anger_prediction, color=\"red\")\n",
        "plt.show()"
      ],
      "metadata": {
        "colab": {
          "base_uri": "https://localhost:8080/",
          "height": 514
        },
        "id": "zKfbqkjOgTeu",
        "outputId": "b3dd042f-8ec3-4564-fefa-3bbc4ba3f6dd"
      },
      "execution_count": 87,
      "outputs": [
        {
          "output_type": "display_data",
          "data": {
            "text/plain": [
              "<Figure size 720x576 with 1 Axes>"
            ],
            "image/png": "[encoded data removed]"
          },
          "metadata": {
            "needs_background": "light"
          }
        }
      ]
    },
    {
      "cell_type": "code",
      "source": [
        "plt.figure(figsize = (10,8))\n",
        "plt.title(\"Sadness Index\")\n",
        "sns.histplot(data=df, x=df.sadness_prediction, color=\"red\")\n",
        "plt.show()"
      ],
      "metadata": {
        "colab": {
          "base_uri": "https://localhost:8080/",
          "height": 514
        },
        "id": "u36I8ccVgfkq",
        "outputId": "262059a9-a1bf-4c3c-aff3-f290fe38f40e"
      },
      "execution_count": 88,
      "outputs": [
        {
          "output_type": "display_data",
          "data": {
            "text/plain": [
              "<Figure size 720x576 with 1 Axes>"
            ],
            "image/png": "[encoded data removed]"
          },
          "metadata": {
            "needs_background": "light"
          }
        }
      ]
    },
    {
      "cell_type": "code",
      "source": [
        "plt.figure(figsize = (10,8))\n",
        "plt.title(\"Joy Index\")\n",
        "sns.histplot(data=df, x=df.joy_prediction, color=\"green\")\n",
        "plt.show()"
      ],
      "metadata": {
        "colab": {
          "base_uri": "https://localhost:8080/",
          "height": 514
        },
        "id": "fkhgXl_9gpUW",
        "outputId": "a967d47f-32b2-431e-e195-c9b2827d3002"
      },
      "execution_count": 89,
      "outputs": [
        {
          "output_type": "display_data",
          "data": {
            "text/plain": [
              "<Figure size 720x576 with 1 Axes>"
            ],
            "image/png": "[encoded data removed]"
          },
          "metadata": {
            "needs_background": "light"
          }
        }
      ]
    },
    {
      "cell_type": "code",
      "source": [
        "plt.figure(figsize = (10,8))\n",
        "plt.title(\"Love Index\")\n",
        "sns.histplot(data=df, x=df.love_prediction, color=\"green\")\n",
        "plt.show()"
      ],
      "metadata": {
        "colab": {
          "base_uri": "https://localhost:8080/",
          "height": 514
        },
        "id": "tqIrj3Cdg41h",
        "outputId": "35ff9fc1-cea1-4410-93d2-eaf0a36d9506"
      },
      "execution_count": 91,
      "outputs": [
        {
          "output_type": "display_data",
          "data": {
            "text/plain": [
              "<Figure size 720x576 with 1 Axes>"
            ],
            "image/png": "[encoded data removed]"
          },
          "metadata": {
            "needs_background": "light"
          }
        }
      ]
    },
    {
      "cell_type": "code",
      "source": [
        "plt.figure(figsize = (10,8))\n",
        "plt.title(\"Surprise Index\")\n",
        "sns.histplot(data=df, x=df.surprise_prediction, color=\"green\")\n",
        "plt.show()"
      ],
      "metadata": {
        "colab": {
          "base_uri": "https://localhost:8080/",
          "height": 514
        },
        "id": "ZHKV9sTkhDy-",
        "outputId": "f74e4f6d-0f76-4fdc-a67d-2e5a50478718"
      },
      "execution_count": 92,
      "outputs": [
        {
          "output_type": "display_data",
          "data": {
            "text/plain": [
              "<Figure size 720x576 with 1 Axes>"
            ],
            "image/png": "[encoded data removed]"
          },
          "metadata": {
            "needs_background": "light"
          }
        }
      ]
    }
  ]
}